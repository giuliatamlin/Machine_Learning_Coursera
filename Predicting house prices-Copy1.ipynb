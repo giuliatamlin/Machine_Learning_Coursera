{
 "cells": [
  {
   "cell_type": "markdown",
   "metadata": {},
   "source": [
    "#Fire up graphlab create"
   ]
  },
  {
   "cell_type": "code",
   "execution_count": 13,
   "metadata": {
    "collapsed": false
   },
   "outputs": [],
   "source": [
    "import pandas as pd\n",
    "import graphlab"
   ]
  },
  {
   "cell_type": "markdown",
   "metadata": {},
   "source": [
    "#Load some house sales data\n",
    "\n",
    "Dataset is from house sales in King County, the region where the city of Seattle, WA is located."
   ]
  },
  {
   "cell_type": "code",
   "execution_count": 2,
   "metadata": {
    "collapsed": false
   },
   "outputs": [
    {
     "name": "stderr",
     "output_type": "stream",
     "text": [
      "[INFO] This non-commercial license of GraphLab Create is assigned to giulia.gualdi@gmail.com and will expire on February 15, 2017. For commercial licensing options, visit https://dato.com/buy/.\n",
      "\n",
      "[INFO] Start server at: ipc:///tmp/graphlab_server-3980 - Server binary: /Users/giulia/anaconda3/envs/dato-env/lib/python2.7/site-packages/graphlab/unity_server - Server log: /tmp/graphlab_server_1456497627.log\n",
      "[INFO] GraphLab Server Version: 1.8.1\n"
     ]
    }
   ],
   "source": [
    "sales = graphlab.SFrame('home_data.gl/')"
   ]
  },
  {
   "cell_type": "code",
   "execution_count": 4,
   "metadata": {
    "collapsed": false
   },
   "outputs": [
    {
     "data": {
      "text/html": [
       "<div style=\"max-height:1000px;max-width:1500px;overflow:auto;\"><table frame=\"box\" rules=\"cols\">\n",
       "    <tr>\n",
       "        <th style=\"padding-left: 1em; padding-right: 1em; text-align: center\">id</th>\n",
       "        <th style=\"padding-left: 1em; padding-right: 1em; text-align: center\">date</th>\n",
       "        <th style=\"padding-left: 1em; padding-right: 1em; text-align: center\">price</th>\n",
       "        <th style=\"padding-left: 1em; padding-right: 1em; text-align: center\">bedrooms</th>\n",
       "        <th style=\"padding-left: 1em; padding-right: 1em; text-align: center\">bathrooms</th>\n",
       "        <th style=\"padding-left: 1em; padding-right: 1em; text-align: center\">sqft_living</th>\n",
       "        <th style=\"padding-left: 1em; padding-right: 1em; text-align: center\">sqft_lot</th>\n",
       "        <th style=\"padding-left: 1em; padding-right: 1em; text-align: center\">floors</th>\n",
       "        <th style=\"padding-left: 1em; padding-right: 1em; text-align: center\">waterfront</th>\n",
       "    </tr>\n",
       "    <tr>\n",
       "        <td style=\"padding-left: 1em; padding-right: 1em; text-align: center; vertical-align: top\">7129300520</td>\n",
       "        <td style=\"padding-left: 1em; padding-right: 1em; text-align: center; vertical-align: top\">2014-10-13 00:00:00+00:00</td>\n",
       "        <td style=\"padding-left: 1em; padding-right: 1em; text-align: center; vertical-align: top\">221900</td>\n",
       "        <td style=\"padding-left: 1em; padding-right: 1em; text-align: center; vertical-align: top\">3</td>\n",
       "        <td style=\"padding-left: 1em; padding-right: 1em; text-align: center; vertical-align: top\">1</td>\n",
       "        <td style=\"padding-left: 1em; padding-right: 1em; text-align: center; vertical-align: top\">1180</td>\n",
       "        <td style=\"padding-left: 1em; padding-right: 1em; text-align: center; vertical-align: top\">5650</td>\n",
       "        <td style=\"padding-left: 1em; padding-right: 1em; text-align: center; vertical-align: top\">1</td>\n",
       "        <td style=\"padding-left: 1em; padding-right: 1em; text-align: center; vertical-align: top\">0</td>\n",
       "    </tr>\n",
       "    <tr>\n",
       "        <td style=\"padding-left: 1em; padding-right: 1em; text-align: center; vertical-align: top\">6414100192</td>\n",
       "        <td style=\"padding-left: 1em; padding-right: 1em; text-align: center; vertical-align: top\">2014-12-09 00:00:00+00:00</td>\n",
       "        <td style=\"padding-left: 1em; padding-right: 1em; text-align: center; vertical-align: top\">538000</td>\n",
       "        <td style=\"padding-left: 1em; padding-right: 1em; text-align: center; vertical-align: top\">3</td>\n",
       "        <td style=\"padding-left: 1em; padding-right: 1em; text-align: center; vertical-align: top\">2.25</td>\n",
       "        <td style=\"padding-left: 1em; padding-right: 1em; text-align: center; vertical-align: top\">2570</td>\n",
       "        <td style=\"padding-left: 1em; padding-right: 1em; text-align: center; vertical-align: top\">7242</td>\n",
       "        <td style=\"padding-left: 1em; padding-right: 1em; text-align: center; vertical-align: top\">2</td>\n",
       "        <td style=\"padding-left: 1em; padding-right: 1em; text-align: center; vertical-align: top\">0</td>\n",
       "    </tr>\n",
       "    <tr>\n",
       "        <td style=\"padding-left: 1em; padding-right: 1em; text-align: center; vertical-align: top\">5631500400</td>\n",
       "        <td style=\"padding-left: 1em; padding-right: 1em; text-align: center; vertical-align: top\">2015-02-25 00:00:00+00:00</td>\n",
       "        <td style=\"padding-left: 1em; padding-right: 1em; text-align: center; vertical-align: top\">180000</td>\n",
       "        <td style=\"padding-left: 1em; padding-right: 1em; text-align: center; vertical-align: top\">2</td>\n",
       "        <td style=\"padding-left: 1em; padding-right: 1em; text-align: center; vertical-align: top\">1</td>\n",
       "        <td style=\"padding-left: 1em; padding-right: 1em; text-align: center; vertical-align: top\">770</td>\n",
       "        <td style=\"padding-left: 1em; padding-right: 1em; text-align: center; vertical-align: top\">10000</td>\n",
       "        <td style=\"padding-left: 1em; padding-right: 1em; text-align: center; vertical-align: top\">1</td>\n",
       "        <td style=\"padding-left: 1em; padding-right: 1em; text-align: center; vertical-align: top\">0</td>\n",
       "    </tr>\n",
       "    <tr>\n",
       "        <td style=\"padding-left: 1em; padding-right: 1em; text-align: center; vertical-align: top\">2487200875</td>\n",
       "        <td style=\"padding-left: 1em; padding-right: 1em; text-align: center; vertical-align: top\">2014-12-09 00:00:00+00:00</td>\n",
       "        <td style=\"padding-left: 1em; padding-right: 1em; text-align: center; vertical-align: top\">604000</td>\n",
       "        <td style=\"padding-left: 1em; padding-right: 1em; text-align: center; vertical-align: top\">4</td>\n",
       "        <td style=\"padding-left: 1em; padding-right: 1em; text-align: center; vertical-align: top\">3</td>\n",
       "        <td style=\"padding-left: 1em; padding-right: 1em; text-align: center; vertical-align: top\">1960</td>\n",
       "        <td style=\"padding-left: 1em; padding-right: 1em; text-align: center; vertical-align: top\">5000</td>\n",
       "        <td style=\"padding-left: 1em; padding-right: 1em; text-align: center; vertical-align: top\">1</td>\n",
       "        <td style=\"padding-left: 1em; padding-right: 1em; text-align: center; vertical-align: top\">0</td>\n",
       "    </tr>\n",
       "    <tr>\n",
       "        <td style=\"padding-left: 1em; padding-right: 1em; text-align: center; vertical-align: top\">1954400510</td>\n",
       "        <td style=\"padding-left: 1em; padding-right: 1em; text-align: center; vertical-align: top\">2015-02-18 00:00:00+00:00</td>\n",
       "        <td style=\"padding-left: 1em; padding-right: 1em; text-align: center; vertical-align: top\">510000</td>\n",
       "        <td style=\"padding-left: 1em; padding-right: 1em; text-align: center; vertical-align: top\">3</td>\n",
       "        <td style=\"padding-left: 1em; padding-right: 1em; text-align: center; vertical-align: top\">2</td>\n",
       "        <td style=\"padding-left: 1em; padding-right: 1em; text-align: center; vertical-align: top\">1680</td>\n",
       "        <td style=\"padding-left: 1em; padding-right: 1em; text-align: center; vertical-align: top\">8080</td>\n",
       "        <td style=\"padding-left: 1em; padding-right: 1em; text-align: center; vertical-align: top\">1</td>\n",
       "        <td style=\"padding-left: 1em; padding-right: 1em; text-align: center; vertical-align: top\">0</td>\n",
       "    </tr>\n",
       "    <tr>\n",
       "        <td style=\"padding-left: 1em; padding-right: 1em; text-align: center; vertical-align: top\">7237550310</td>\n",
       "        <td style=\"padding-left: 1em; padding-right: 1em; text-align: center; vertical-align: top\">2014-05-12 00:00:00+00:00</td>\n",
       "        <td style=\"padding-left: 1em; padding-right: 1em; text-align: center; vertical-align: top\">1225000</td>\n",
       "        <td style=\"padding-left: 1em; padding-right: 1em; text-align: center; vertical-align: top\">4</td>\n",
       "        <td style=\"padding-left: 1em; padding-right: 1em; text-align: center; vertical-align: top\">4.5</td>\n",
       "        <td style=\"padding-left: 1em; padding-right: 1em; text-align: center; vertical-align: top\">5420</td>\n",
       "        <td style=\"padding-left: 1em; padding-right: 1em; text-align: center; vertical-align: top\">101930</td>\n",
       "        <td style=\"padding-left: 1em; padding-right: 1em; text-align: center; vertical-align: top\">1</td>\n",
       "        <td style=\"padding-left: 1em; padding-right: 1em; text-align: center; vertical-align: top\">0</td>\n",
       "    </tr>\n",
       "    <tr>\n",
       "        <td style=\"padding-left: 1em; padding-right: 1em; text-align: center; vertical-align: top\">1321400060</td>\n",
       "        <td style=\"padding-left: 1em; padding-right: 1em; text-align: center; vertical-align: top\">2014-06-27 00:00:00+00:00</td>\n",
       "        <td style=\"padding-left: 1em; padding-right: 1em; text-align: center; vertical-align: top\">257500</td>\n",
       "        <td style=\"padding-left: 1em; padding-right: 1em; text-align: center; vertical-align: top\">3</td>\n",
       "        <td style=\"padding-left: 1em; padding-right: 1em; text-align: center; vertical-align: top\">2.25</td>\n",
       "        <td style=\"padding-left: 1em; padding-right: 1em; text-align: center; vertical-align: top\">1715</td>\n",
       "        <td style=\"padding-left: 1em; padding-right: 1em; text-align: center; vertical-align: top\">6819</td>\n",
       "        <td style=\"padding-left: 1em; padding-right: 1em; text-align: center; vertical-align: top\">2</td>\n",
       "        <td style=\"padding-left: 1em; padding-right: 1em; text-align: center; vertical-align: top\">0</td>\n",
       "    </tr>\n",
       "    <tr>\n",
       "        <td style=\"padding-left: 1em; padding-right: 1em; text-align: center; vertical-align: top\">2008000270</td>\n",
       "        <td style=\"padding-left: 1em; padding-right: 1em; text-align: center; vertical-align: top\">2015-01-15 00:00:00+00:00</td>\n",
       "        <td style=\"padding-left: 1em; padding-right: 1em; text-align: center; vertical-align: top\">291850</td>\n",
       "        <td style=\"padding-left: 1em; padding-right: 1em; text-align: center; vertical-align: top\">3</td>\n",
       "        <td style=\"padding-left: 1em; padding-right: 1em; text-align: center; vertical-align: top\">1.5</td>\n",
       "        <td style=\"padding-left: 1em; padding-right: 1em; text-align: center; vertical-align: top\">1060</td>\n",
       "        <td style=\"padding-left: 1em; padding-right: 1em; text-align: center; vertical-align: top\">9711</td>\n",
       "        <td style=\"padding-left: 1em; padding-right: 1em; text-align: center; vertical-align: top\">1</td>\n",
       "        <td style=\"padding-left: 1em; padding-right: 1em; text-align: center; vertical-align: top\">0</td>\n",
       "    </tr>\n",
       "    <tr>\n",
       "        <td style=\"padding-left: 1em; padding-right: 1em; text-align: center; vertical-align: top\">2414600126</td>\n",
       "        <td style=\"padding-left: 1em; padding-right: 1em; text-align: center; vertical-align: top\">2015-04-15 00:00:00+00:00</td>\n",
       "        <td style=\"padding-left: 1em; padding-right: 1em; text-align: center; vertical-align: top\">229500</td>\n",
       "        <td style=\"padding-left: 1em; padding-right: 1em; text-align: center; vertical-align: top\">3</td>\n",
       "        <td style=\"padding-left: 1em; padding-right: 1em; text-align: center; vertical-align: top\">1</td>\n",
       "        <td style=\"padding-left: 1em; padding-right: 1em; text-align: center; vertical-align: top\">1780</td>\n",
       "        <td style=\"padding-left: 1em; padding-right: 1em; text-align: center; vertical-align: top\">7470</td>\n",
       "        <td style=\"padding-left: 1em; padding-right: 1em; text-align: center; vertical-align: top\">1</td>\n",
       "        <td style=\"padding-left: 1em; padding-right: 1em; text-align: center; vertical-align: top\">0</td>\n",
       "    </tr>\n",
       "    <tr>\n",
       "        <td style=\"padding-left: 1em; padding-right: 1em; text-align: center; vertical-align: top\">3793500160</td>\n",
       "        <td style=\"padding-left: 1em; padding-right: 1em; text-align: center; vertical-align: top\">2015-03-12 00:00:00+00:00</td>\n",
       "        <td style=\"padding-left: 1em; padding-right: 1em; text-align: center; vertical-align: top\">323000</td>\n",
       "        <td style=\"padding-left: 1em; padding-right: 1em; text-align: center; vertical-align: top\">3</td>\n",
       "        <td style=\"padding-left: 1em; padding-right: 1em; text-align: center; vertical-align: top\">2.5</td>\n",
       "        <td style=\"padding-left: 1em; padding-right: 1em; text-align: center; vertical-align: top\">1890</td>\n",
       "        <td style=\"padding-left: 1em; padding-right: 1em; text-align: center; vertical-align: top\">6560</td>\n",
       "        <td style=\"padding-left: 1em; padding-right: 1em; text-align: center; vertical-align: top\">2</td>\n",
       "        <td style=\"padding-left: 1em; padding-right: 1em; text-align: center; vertical-align: top\">0</td>\n",
       "    </tr>\n",
       "</table>\n",
       "<table frame=\"box\" rules=\"cols\">\n",
       "    <tr>\n",
       "        <th style=\"padding-left: 1em; padding-right: 1em; text-align: center\">view</th>\n",
       "        <th style=\"padding-left: 1em; padding-right: 1em; text-align: center\">condition</th>\n",
       "        <th style=\"padding-left: 1em; padding-right: 1em; text-align: center\">grade</th>\n",
       "        <th style=\"padding-left: 1em; padding-right: 1em; text-align: center\">sqft_above</th>\n",
       "        <th style=\"padding-left: 1em; padding-right: 1em; text-align: center\">sqft_basement</th>\n",
       "        <th style=\"padding-left: 1em; padding-right: 1em; text-align: center\">yr_built</th>\n",
       "        <th style=\"padding-left: 1em; padding-right: 1em; text-align: center\">yr_renovated</th>\n",
       "        <th style=\"padding-left: 1em; padding-right: 1em; text-align: center\">zipcode</th>\n",
       "        <th style=\"padding-left: 1em; padding-right: 1em; text-align: center\">lat</th>\n",
       "    </tr>\n",
       "    <tr>\n",
       "        <td style=\"padding-left: 1em; padding-right: 1em; text-align: center; vertical-align: top\">0</td>\n",
       "        <td style=\"padding-left: 1em; padding-right: 1em; text-align: center; vertical-align: top\">3</td>\n",
       "        <td style=\"padding-left: 1em; padding-right: 1em; text-align: center; vertical-align: top\">7</td>\n",
       "        <td style=\"padding-left: 1em; padding-right: 1em; text-align: center; vertical-align: top\">1180</td>\n",
       "        <td style=\"padding-left: 1em; padding-right: 1em; text-align: center; vertical-align: top\">0</td>\n",
       "        <td style=\"padding-left: 1em; padding-right: 1em; text-align: center; vertical-align: top\">1955</td>\n",
       "        <td style=\"padding-left: 1em; padding-right: 1em; text-align: center; vertical-align: top\">0</td>\n",
       "        <td style=\"padding-left: 1em; padding-right: 1em; text-align: center; vertical-align: top\">98178</td>\n",
       "        <td style=\"padding-left: 1em; padding-right: 1em; text-align: center; vertical-align: top\">47.51123398</td>\n",
       "    </tr>\n",
       "    <tr>\n",
       "        <td style=\"padding-left: 1em; padding-right: 1em; text-align: center; vertical-align: top\">0</td>\n",
       "        <td style=\"padding-left: 1em; padding-right: 1em; text-align: center; vertical-align: top\">3</td>\n",
       "        <td style=\"padding-left: 1em; padding-right: 1em; text-align: center; vertical-align: top\">7</td>\n",
       "        <td style=\"padding-left: 1em; padding-right: 1em; text-align: center; vertical-align: top\">2170</td>\n",
       "        <td style=\"padding-left: 1em; padding-right: 1em; text-align: center; vertical-align: top\">400</td>\n",
       "        <td style=\"padding-left: 1em; padding-right: 1em; text-align: center; vertical-align: top\">1951</td>\n",
       "        <td style=\"padding-left: 1em; padding-right: 1em; text-align: center; vertical-align: top\">1991</td>\n",
       "        <td style=\"padding-left: 1em; padding-right: 1em; text-align: center; vertical-align: top\">98125</td>\n",
       "        <td style=\"padding-left: 1em; padding-right: 1em; text-align: center; vertical-align: top\">47.72102274</td>\n",
       "    </tr>\n",
       "    <tr>\n",
       "        <td style=\"padding-left: 1em; padding-right: 1em; text-align: center; vertical-align: top\">0</td>\n",
       "        <td style=\"padding-left: 1em; padding-right: 1em; text-align: center; vertical-align: top\">3</td>\n",
       "        <td style=\"padding-left: 1em; padding-right: 1em; text-align: center; vertical-align: top\">6</td>\n",
       "        <td style=\"padding-left: 1em; padding-right: 1em; text-align: center; vertical-align: top\">770</td>\n",
       "        <td style=\"padding-left: 1em; padding-right: 1em; text-align: center; vertical-align: top\">0</td>\n",
       "        <td style=\"padding-left: 1em; padding-right: 1em; text-align: center; vertical-align: top\">1933</td>\n",
       "        <td style=\"padding-left: 1em; padding-right: 1em; text-align: center; vertical-align: top\">0</td>\n",
       "        <td style=\"padding-left: 1em; padding-right: 1em; text-align: center; vertical-align: top\">98028</td>\n",
       "        <td style=\"padding-left: 1em; padding-right: 1em; text-align: center; vertical-align: top\">47.73792661</td>\n",
       "    </tr>\n",
       "    <tr>\n",
       "        <td style=\"padding-left: 1em; padding-right: 1em; text-align: center; vertical-align: top\">0</td>\n",
       "        <td style=\"padding-left: 1em; padding-right: 1em; text-align: center; vertical-align: top\">5</td>\n",
       "        <td style=\"padding-left: 1em; padding-right: 1em; text-align: center; vertical-align: top\">7</td>\n",
       "        <td style=\"padding-left: 1em; padding-right: 1em; text-align: center; vertical-align: top\">1050</td>\n",
       "        <td style=\"padding-left: 1em; padding-right: 1em; text-align: center; vertical-align: top\">910</td>\n",
       "        <td style=\"padding-left: 1em; padding-right: 1em; text-align: center; vertical-align: top\">1965</td>\n",
       "        <td style=\"padding-left: 1em; padding-right: 1em; text-align: center; vertical-align: top\">0</td>\n",
       "        <td style=\"padding-left: 1em; padding-right: 1em; text-align: center; vertical-align: top\">98136</td>\n",
       "        <td style=\"padding-left: 1em; padding-right: 1em; text-align: center; vertical-align: top\">47.52082</td>\n",
       "    </tr>\n",
       "    <tr>\n",
       "        <td style=\"padding-left: 1em; padding-right: 1em; text-align: center; vertical-align: top\">0</td>\n",
       "        <td style=\"padding-left: 1em; padding-right: 1em; text-align: center; vertical-align: top\">3</td>\n",
       "        <td style=\"padding-left: 1em; padding-right: 1em; text-align: center; vertical-align: top\">8</td>\n",
       "        <td style=\"padding-left: 1em; padding-right: 1em; text-align: center; vertical-align: top\">1680</td>\n",
       "        <td style=\"padding-left: 1em; padding-right: 1em; text-align: center; vertical-align: top\">0</td>\n",
       "        <td style=\"padding-left: 1em; padding-right: 1em; text-align: center; vertical-align: top\">1987</td>\n",
       "        <td style=\"padding-left: 1em; padding-right: 1em; text-align: center; vertical-align: top\">0</td>\n",
       "        <td style=\"padding-left: 1em; padding-right: 1em; text-align: center; vertical-align: top\">98074</td>\n",
       "        <td style=\"padding-left: 1em; padding-right: 1em; text-align: center; vertical-align: top\">47.61681228</td>\n",
       "    </tr>\n",
       "    <tr>\n",
       "        <td style=\"padding-left: 1em; padding-right: 1em; text-align: center; vertical-align: top\">0</td>\n",
       "        <td style=\"padding-left: 1em; padding-right: 1em; text-align: center; vertical-align: top\">3</td>\n",
       "        <td style=\"padding-left: 1em; padding-right: 1em; text-align: center; vertical-align: top\">11</td>\n",
       "        <td style=\"padding-left: 1em; padding-right: 1em; text-align: center; vertical-align: top\">3890</td>\n",
       "        <td style=\"padding-left: 1em; padding-right: 1em; text-align: center; vertical-align: top\">1530</td>\n",
       "        <td style=\"padding-left: 1em; padding-right: 1em; text-align: center; vertical-align: top\">2001</td>\n",
       "        <td style=\"padding-left: 1em; padding-right: 1em; text-align: center; vertical-align: top\">0</td>\n",
       "        <td style=\"padding-left: 1em; padding-right: 1em; text-align: center; vertical-align: top\">98053</td>\n",
       "        <td style=\"padding-left: 1em; padding-right: 1em; text-align: center; vertical-align: top\">47.65611835</td>\n",
       "    </tr>\n",
       "    <tr>\n",
       "        <td style=\"padding-left: 1em; padding-right: 1em; text-align: center; vertical-align: top\">0</td>\n",
       "        <td style=\"padding-left: 1em; padding-right: 1em; text-align: center; vertical-align: top\">3</td>\n",
       "        <td style=\"padding-left: 1em; padding-right: 1em; text-align: center; vertical-align: top\">7</td>\n",
       "        <td style=\"padding-left: 1em; padding-right: 1em; text-align: center; vertical-align: top\">1715</td>\n",
       "        <td style=\"padding-left: 1em; padding-right: 1em; text-align: center; vertical-align: top\">0</td>\n",
       "        <td style=\"padding-left: 1em; padding-right: 1em; text-align: center; vertical-align: top\">1995</td>\n",
       "        <td style=\"padding-left: 1em; padding-right: 1em; text-align: center; vertical-align: top\">0</td>\n",
       "        <td style=\"padding-left: 1em; padding-right: 1em; text-align: center; vertical-align: top\">98003</td>\n",
       "        <td style=\"padding-left: 1em; padding-right: 1em; text-align: center; vertical-align: top\">47.30972002</td>\n",
       "    </tr>\n",
       "    <tr>\n",
       "        <td style=\"padding-left: 1em; padding-right: 1em; text-align: center; vertical-align: top\">0</td>\n",
       "        <td style=\"padding-left: 1em; padding-right: 1em; text-align: center; vertical-align: top\">3</td>\n",
       "        <td style=\"padding-left: 1em; padding-right: 1em; text-align: center; vertical-align: top\">7</td>\n",
       "        <td style=\"padding-left: 1em; padding-right: 1em; text-align: center; vertical-align: top\">1060</td>\n",
       "        <td style=\"padding-left: 1em; padding-right: 1em; text-align: center; vertical-align: top\">0</td>\n",
       "        <td style=\"padding-left: 1em; padding-right: 1em; text-align: center; vertical-align: top\">1963</td>\n",
       "        <td style=\"padding-left: 1em; padding-right: 1em; text-align: center; vertical-align: top\">0</td>\n",
       "        <td style=\"padding-left: 1em; padding-right: 1em; text-align: center; vertical-align: top\">98198</td>\n",
       "        <td style=\"padding-left: 1em; padding-right: 1em; text-align: center; vertical-align: top\">47.40949984</td>\n",
       "    </tr>\n",
       "    <tr>\n",
       "        <td style=\"padding-left: 1em; padding-right: 1em; text-align: center; vertical-align: top\">0</td>\n",
       "        <td style=\"padding-left: 1em; padding-right: 1em; text-align: center; vertical-align: top\">3</td>\n",
       "        <td style=\"padding-left: 1em; padding-right: 1em; text-align: center; vertical-align: top\">7</td>\n",
       "        <td style=\"padding-left: 1em; padding-right: 1em; text-align: center; vertical-align: top\">1050</td>\n",
       "        <td style=\"padding-left: 1em; padding-right: 1em; text-align: center; vertical-align: top\">730</td>\n",
       "        <td style=\"padding-left: 1em; padding-right: 1em; text-align: center; vertical-align: top\">1960</td>\n",
       "        <td style=\"padding-left: 1em; padding-right: 1em; text-align: center; vertical-align: top\">0</td>\n",
       "        <td style=\"padding-left: 1em; padding-right: 1em; text-align: center; vertical-align: top\">98146</td>\n",
       "        <td style=\"padding-left: 1em; padding-right: 1em; text-align: center; vertical-align: top\">47.51229381</td>\n",
       "    </tr>\n",
       "    <tr>\n",
       "        <td style=\"padding-left: 1em; padding-right: 1em; text-align: center; vertical-align: top\">0</td>\n",
       "        <td style=\"padding-left: 1em; padding-right: 1em; text-align: center; vertical-align: top\">3</td>\n",
       "        <td style=\"padding-left: 1em; padding-right: 1em; text-align: center; vertical-align: top\">7</td>\n",
       "        <td style=\"padding-left: 1em; padding-right: 1em; text-align: center; vertical-align: top\">1890</td>\n",
       "        <td style=\"padding-left: 1em; padding-right: 1em; text-align: center; vertical-align: top\">0</td>\n",
       "        <td style=\"padding-left: 1em; padding-right: 1em; text-align: center; vertical-align: top\">2003</td>\n",
       "        <td style=\"padding-left: 1em; padding-right: 1em; text-align: center; vertical-align: top\">0</td>\n",
       "        <td style=\"padding-left: 1em; padding-right: 1em; text-align: center; vertical-align: top\">98038</td>\n",
       "        <td style=\"padding-left: 1em; padding-right: 1em; text-align: center; vertical-align: top\">47.36840673</td>\n",
       "    </tr>\n",
       "</table>\n",
       "<table frame=\"box\" rules=\"cols\">\n",
       "    <tr>\n",
       "        <th style=\"padding-left: 1em; padding-right: 1em; text-align: center\">long</th>\n",
       "        <th style=\"padding-left: 1em; padding-right: 1em; text-align: center\">sqft_living15</th>\n",
       "        <th style=\"padding-left: 1em; padding-right: 1em; text-align: center\">sqft_lot15</th>\n",
       "    </tr>\n",
       "    <tr>\n",
       "        <td style=\"padding-left: 1em; padding-right: 1em; text-align: center; vertical-align: top\">-122.25677536</td>\n",
       "        <td style=\"padding-left: 1em; padding-right: 1em; text-align: center; vertical-align: top\">1340.0</td>\n",
       "        <td style=\"padding-left: 1em; padding-right: 1em; text-align: center; vertical-align: top\">5650.0</td>\n",
       "    </tr>\n",
       "    <tr>\n",
       "        <td style=\"padding-left: 1em; padding-right: 1em; text-align: center; vertical-align: top\">-122.3188624</td>\n",
       "        <td style=\"padding-left: 1em; padding-right: 1em; text-align: center; vertical-align: top\">1690.0</td>\n",
       "        <td style=\"padding-left: 1em; padding-right: 1em; text-align: center; vertical-align: top\">7639.0</td>\n",
       "    </tr>\n",
       "    <tr>\n",
       "        <td style=\"padding-left: 1em; padding-right: 1em; text-align: center; vertical-align: top\">-122.23319601</td>\n",
       "        <td style=\"padding-left: 1em; padding-right: 1em; text-align: center; vertical-align: top\">2720.0</td>\n",
       "        <td style=\"padding-left: 1em; padding-right: 1em; text-align: center; vertical-align: top\">8062.0</td>\n",
       "    </tr>\n",
       "    <tr>\n",
       "        <td style=\"padding-left: 1em; padding-right: 1em; text-align: center; vertical-align: top\">-122.39318505</td>\n",
       "        <td style=\"padding-left: 1em; padding-right: 1em; text-align: center; vertical-align: top\">1360.0</td>\n",
       "        <td style=\"padding-left: 1em; padding-right: 1em; text-align: center; vertical-align: top\">5000.0</td>\n",
       "    </tr>\n",
       "    <tr>\n",
       "        <td style=\"padding-left: 1em; padding-right: 1em; text-align: center; vertical-align: top\">-122.04490059</td>\n",
       "        <td style=\"padding-left: 1em; padding-right: 1em; text-align: center; vertical-align: top\">1800.0</td>\n",
       "        <td style=\"padding-left: 1em; padding-right: 1em; text-align: center; vertical-align: top\">7503.0</td>\n",
       "    </tr>\n",
       "    <tr>\n",
       "        <td style=\"padding-left: 1em; padding-right: 1em; text-align: center; vertical-align: top\">-122.00528655</td>\n",
       "        <td style=\"padding-left: 1em; padding-right: 1em; text-align: center; vertical-align: top\">4760.0</td>\n",
       "        <td style=\"padding-left: 1em; padding-right: 1em; text-align: center; vertical-align: top\">101930.0</td>\n",
       "    </tr>\n",
       "    <tr>\n",
       "        <td style=\"padding-left: 1em; padding-right: 1em; text-align: center; vertical-align: top\">-122.32704857</td>\n",
       "        <td style=\"padding-left: 1em; padding-right: 1em; text-align: center; vertical-align: top\">2238.0</td>\n",
       "        <td style=\"padding-left: 1em; padding-right: 1em; text-align: center; vertical-align: top\">6819.0</td>\n",
       "    </tr>\n",
       "    <tr>\n",
       "        <td style=\"padding-left: 1em; padding-right: 1em; text-align: center; vertical-align: top\">-122.31457273</td>\n",
       "        <td style=\"padding-left: 1em; padding-right: 1em; text-align: center; vertical-align: top\">1650.0</td>\n",
       "        <td style=\"padding-left: 1em; padding-right: 1em; text-align: center; vertical-align: top\">9711.0</td>\n",
       "    </tr>\n",
       "    <tr>\n",
       "        <td style=\"padding-left: 1em; padding-right: 1em; text-align: center; vertical-align: top\">-122.33659507</td>\n",
       "        <td style=\"padding-left: 1em; padding-right: 1em; text-align: center; vertical-align: top\">1780.0</td>\n",
       "        <td style=\"padding-left: 1em; padding-right: 1em; text-align: center; vertical-align: top\">8113.0</td>\n",
       "    </tr>\n",
       "    <tr>\n",
       "        <td style=\"padding-left: 1em; padding-right: 1em; text-align: center; vertical-align: top\">-122.0308176</td>\n",
       "        <td style=\"padding-left: 1em; padding-right: 1em; text-align: center; vertical-align: top\">2390.0</td>\n",
       "        <td style=\"padding-left: 1em; padding-right: 1em; text-align: center; vertical-align: top\">7570.0</td>\n",
       "    </tr>\n",
       "</table>\n",
       "[21613 rows x 21 columns]<br/>Note: Only the head of the SFrame is printed.<br/>You can use print_rows(num_rows=m, num_columns=n) to print more rows and columns.\n",
       "</div>"
      ],
      "text/plain": [
       "Columns:\n",
       "\tid\tstr\n",
       "\tdate\tdatetime\n",
       "\tprice\tint\n",
       "\tbedrooms\tstr\n",
       "\tbathrooms\tstr\n",
       "\tsqft_living\tint\n",
       "\tsqft_lot\tint\n",
       "\tfloors\tstr\n",
       "\twaterfront\tint\n",
       "\tview\tint\n",
       "\tcondition\tint\n",
       "\tgrade\tint\n",
       "\tsqft_above\tint\n",
       "\tsqft_basement\tint\n",
       "\tyr_built\tint\n",
       "\tyr_renovated\tint\n",
       "\tzipcode\tstr\n",
       "\tlat\tfloat\n",
       "\tlong\tfloat\n",
       "\tsqft_living15\tfloat\n",
       "\tsqft_lot15\tfloat\n",
       "\n",
       "Rows: 21613\n",
       "\n",
       "Data:\n",
       "+------------+---------------------------+---------+----------+-----------+-------------+\n",
       "|     id     |            date           |  price  | bedrooms | bathrooms | sqft_living |\n",
       "+------------+---------------------------+---------+----------+-----------+-------------+\n",
       "| 7129300520 | 2014-10-13 00:00:00+00:00 |  221900 |    3     |     1     |     1180    |\n",
       "| 6414100192 | 2014-12-09 00:00:00+00:00 |  538000 |    3     |    2.25   |     2570    |\n",
       "| 5631500400 | 2015-02-25 00:00:00+00:00 |  180000 |    2     |     1     |     770     |\n",
       "| 2487200875 | 2014-12-09 00:00:00+00:00 |  604000 |    4     |     3     |     1960    |\n",
       "| 1954400510 | 2015-02-18 00:00:00+00:00 |  510000 |    3     |     2     |     1680    |\n",
       "| 7237550310 | 2014-05-12 00:00:00+00:00 | 1225000 |    4     |    4.5    |     5420    |\n",
       "| 1321400060 | 2014-06-27 00:00:00+00:00 |  257500 |    3     |    2.25   |     1715    |\n",
       "| 2008000270 | 2015-01-15 00:00:00+00:00 |  291850 |    3     |    1.5    |     1060    |\n",
       "| 2414600126 | 2015-04-15 00:00:00+00:00 |  229500 |    3     |     1     |     1780    |\n",
       "| 3793500160 | 2015-03-12 00:00:00+00:00 |  323000 |    3     |    2.5    |     1890    |\n",
       "+------------+---------------------------+---------+----------+-----------+-------------+\n",
       "+----------+--------+------------+------+-----------+-------+------------+---------------+\n",
       "| sqft_lot | floors | waterfront | view | condition | grade | sqft_above | sqft_basement |\n",
       "+----------+--------+------------+------+-----------+-------+------------+---------------+\n",
       "|   5650   |   1    |     0      |  0   |     3     |   7   |    1180    |       0       |\n",
       "|   7242   |   2    |     0      |  0   |     3     |   7   |    2170    |      400      |\n",
       "|  10000   |   1    |     0      |  0   |     3     |   6   |    770     |       0       |\n",
       "|   5000   |   1    |     0      |  0   |     5     |   7   |    1050    |      910      |\n",
       "|   8080   |   1    |     0      |  0   |     3     |   8   |    1680    |       0       |\n",
       "|  101930  |   1    |     0      |  0   |     3     |   11  |    3890    |      1530     |\n",
       "|   6819   |   2    |     0      |  0   |     3     |   7   |    1715    |       0       |\n",
       "|   9711   |   1    |     0      |  0   |     3     |   7   |    1060    |       0       |\n",
       "|   7470   |   1    |     0      |  0   |     3     |   7   |    1050    |      730      |\n",
       "|   6560   |   2    |     0      |  0   |     3     |   7   |    1890    |       0       |\n",
       "+----------+--------+------------+------+-----------+-------+------------+---------------+\n",
       "+----------+--------------+---------+-------------+---------------+---------------+-----+\n",
       "| yr_built | yr_renovated | zipcode |     lat     |      long     | sqft_living15 | ... |\n",
       "+----------+--------------+---------+-------------+---------------+---------------+-----+\n",
       "|   1955   |      0       |  98178  | 47.51123398 | -122.25677536 |     1340.0    | ... |\n",
       "|   1951   |     1991     |  98125  | 47.72102274 |  -122.3188624 |     1690.0    | ... |\n",
       "|   1933   |      0       |  98028  | 47.73792661 | -122.23319601 |     2720.0    | ... |\n",
       "|   1965   |      0       |  98136  |   47.52082  | -122.39318505 |     1360.0    | ... |\n",
       "|   1987   |      0       |  98074  | 47.61681228 | -122.04490059 |     1800.0    | ... |\n",
       "|   2001   |      0       |  98053  | 47.65611835 | -122.00528655 |     4760.0    | ... |\n",
       "|   1995   |      0       |  98003  | 47.30972002 | -122.32704857 |     2238.0    | ... |\n",
       "|   1963   |      0       |  98198  | 47.40949984 | -122.31457273 |     1650.0    | ... |\n",
       "|   1960   |      0       |  98146  | 47.51229381 | -122.33659507 |     1780.0    | ... |\n",
       "|   2003   |      0       |  98038  | 47.36840673 |  -122.0308176 |     2390.0    | ... |\n",
       "+----------+--------------+---------+-------------+---------------+---------------+-----+\n",
       "[21613 rows x 21 columns]\n",
       "Note: Only the head of the SFrame is printed.\n",
       "You can use print_rows(num_rows=m, num_columns=n) to print more rows and columns."
      ]
     },
     "execution_count": 4,
     "metadata": {},
     "output_type": "execute_result"
    }
   ],
   "source": [
    "sales"
   ]
  },
  {
   "cell_type": "markdown",
   "metadata": {},
   "source": [
    "#Exploring the data for housing sales "
   ]
  },
  {
   "cell_type": "code",
   "execution_count": 18,
   "metadata": {
    "collapsed": false
   },
   "outputs": [
    {
     "ename": "AttributeError",
     "evalue": "'SFrame' object has no attribute 'set_index'",
     "output_type": "error",
     "traceback": [
      "\u001b[0;31m---------------------------------------------------------------------------\u001b[0m",
      "\u001b[0;31mAttributeError\u001b[0m                            Traceback (most recent call last)",
      "\u001b[0;32m<ipython-input-18-e5499d37938c>\u001b[0m in \u001b[0;36m<module>\u001b[0;34m()\u001b[0m\n\u001b[1;32m      1\u001b[0m \u001b[0msales\u001b[0m\u001b[0;34m.\u001b[0m\u001b[0msort\u001b[0m\u001b[0;34m(\u001b[0m\u001b[0;34m'zipcode'\u001b[0m\u001b[0;34m)\u001b[0m\u001b[0;34m\u001b[0m\u001b[0m\n\u001b[0;32m----> 2\u001b[0;31m \u001b[0msales\u001b[0m\u001b[0;34m.\u001b[0m\u001b[0mset_index\u001b[0m\u001b[0;34m(\u001b[0m\u001b[0mkeys\u001b[0m\u001b[0;34m=\u001b[0m\u001b[0;34m'zipcode'\u001b[0m\u001b[0;34m)\u001b[0m\u001b[0;34m\u001b[0m\u001b[0m\n\u001b[0m",
      "\u001b[0;31mAttributeError\u001b[0m: 'SFrame' object has no attribute 'set_index'"
     ]
    }
   ],
   "source": [
    "sales.sort('zipcode') \n"
   ]
  },
  {
   "cell_type": "markdown",
   "metadata": {},
   "source": [
    "The house price is correlated with the number of square feet of living space."
   ]
  },
  {
   "cell_type": "code",
   "execution_count": 3,
   "metadata": {
    "collapsed": false
   },
   "outputs": [
    {
     "data": {
      "application/javascript": [
       "$(\"head\").append($(\"<link/>\").attr({\n",
       "  rel:  \"stylesheet\",\n",
       "  type: \"text/css\",\n",
       "  href: \"//cdnjs.cloudflare.com/ajax/libs/font-awesome/4.1.0/css/font-awesome.min.css\"\n",
       "}));\n",
       "$(\"head\").append($(\"<link/>\").attr({\n",
       "  rel:  \"stylesheet\",\n",
       "  type: \"text/css\",\n",
       "  href: \"//dato.com/files/canvas/1.8.1/css/canvas.css\"\n",
       "}));\n",
       "\n",
       "            (function(){\n",
       "\n",
       "                var e = null;\n",
       "                if (typeof element == 'undefined') {\n",
       "                    var scripts = document.getElementsByTagName('script');\n",
       "                    var thisScriptTag = scripts[scripts.length-1];\n",
       "                    var parentDiv = thisScriptTag.parentNode;\n",
       "                    e = document.createElement('div');\n",
       "                    parentDiv.appendChild(e);\n",
       "                } else {\n",
       "                    e = element[0];\n",
       "                }\n",
       "\n",
       "                if (typeof requirejs !== 'undefined') {\n",
       "                    // disable load timeout; ipython_app.js is large and can take a while to load.\n",
       "                    requirejs.config({waitSeconds: 0});\n",
       "                }\n",
       "\n",
       "                require(['//dato.com/files/canvas/1.8.1/js/ipython_app.js'], function(IPythonApp){\n",
       "                    var app = new IPythonApp();\n",
       "                    app.attachView('sframe','Plots', {\"selected_variable\": {\"name\": [\"sales\"], \"descriptives\": {\"rows\": 21613, \"columns\": 21}, \"view_component\": \"Plots\", \"view_file\": \"sframe\", \"view_params\": {\"y\": \"price\", \"x\": \"sqft_living\", \"columns\": [\"id\", \"date\", \"price\", \"bedrooms\", \"bathrooms\", \"sqft_living\", \"sqft_lot\", \"floors\", \"waterfront\", \"view\", \"condition\", \"grade\", \"sqft_above\", \"sqft_basement\", \"yr_built\", \"yr_renovated\", \"zipcode\", \"lat\", \"long\", \"sqft_living15\", \"sqft_lot15\"], \"view\": \"Scatter Plot\"}, \"view_components\": [\"Summary\", \"Table\", \"Bar Chart\", \"BoxWhisker Plot\", \"Line Chart\", \"Scatter Plot\", \"Heat Map\", \"Plots\"], \"type\": \"SFrame\", \"columns\": [{\"dtype\": \"str\", \"name\": \"id\"}, {\"dtype\": \"datetime\", \"name\": \"date\"}, {\"dtype\": \"int\", \"name\": \"price\"}, {\"dtype\": \"str\", \"name\": \"bedrooms\"}, {\"dtype\": \"str\", \"name\": \"bathrooms\"}, {\"dtype\": \"int\", \"name\": \"sqft_living\"}, {\"dtype\": \"int\", \"name\": \"sqft_lot\"}, {\"dtype\": \"str\", \"name\": \"floors\"}, {\"dtype\": \"int\", \"name\": \"waterfront\"}, {\"dtype\": \"int\", \"name\": \"view\"}, {\"dtype\": \"int\", \"name\": \"condition\"}, {\"dtype\": \"int\", \"name\": \"grade\"}, {\"dtype\": \"int\", \"name\": \"sqft_above\"}, {\"dtype\": \"int\", \"name\": \"sqft_basement\"}, {\"dtype\": \"int\", \"name\": \"yr_built\"}, {\"dtype\": \"int\", \"name\": \"yr_renovated\"}, {\"dtype\": \"str\", \"name\": \"zipcode\"}, {\"dtype\": \"float\", \"name\": \"lat\"}, {\"dtype\": \"float\", \"name\": \"long\"}, {\"dtype\": \"float\", \"name\": \"sqft_living15\"}, {\"dtype\": \"float\", \"name\": \"sqft_lot15\"}], \"column_identifiers\": [\"bathrooms\", \"sqft_living15\", \"sqft_above\", \"grade\", \"yr_built\", \"price\", \"bedrooms\", \"zipcode\", \"long\", \"id\", \"sqft_lot15\", \"sqft_living\", \"floors\", \"sqft_lot\", \"date\", \"waterfront\", \"sqft_basement\", \"yr_renovated\", \"lat\", \"condition\", \"view\"]}, \"complete\": 1, \"ipython\": true, \"progress\": 1.0, \"data\": [[920, 412133], [2170, 340000], [2520, 410000], [1320, 345000], [980, 204000], [3430, 750000], [2150, 400000], [950, 320000], [770, 212000], [2740, 725000], [1250, 163000], [1270, 465000], [2380, 1160000], [2420, 339900], [1980, 416000], [2460, 750000], [1410, 700000], [2860, 650000], [1200, 718500], [2740, 530000], [1560, 503045], [1140, 276000], [1390, 234000], [890, 169000], [1480, 479000], [1578, 259950], [2259, 262500], [1250, 155000], [3600, 484000], [1160, 487000], [2320, 580500], [1850, 535000], [2160, 820000], [1140, 374000], [2170, 497500], [1150, 425000], [1590, 251000], [1810, 430000], [1380, 209950], [2680, 390000], [1380, 540000], [2340, 645000], [2990, 440000], [1540, 385500], [2490, 740000], [1992, 429592], [1220, 400000], [2250, 445000], [2270, 780000], [2680, 575000], [2290, 390000], [2670, 465000], [3130, 1265000], [1870, 700000], [2060, 500000], [2930, 600000], [2095, 292500], [2190, 340000], [1860, 510000], [3200, 795000], [1250, 370000], [1740, 239999], [3960, 525000], [2660, 851000], [2620, 680000], [1230, 380000], [1010, 174500], [2990, 510000], [1360, 238000], [3120, 799000], [1900, 542000], [1130, 216000], [580, 315000], [2180, 363000], [2110, 425000], [890, 587750], [2860, 1225000], [2130, 802000], [2340, 560000], [1170, 286000], [13540, 2280000], [960, 280000], [1370, 460000], [2050, 724800], [1580, 520000], [1630, 350000], [1080, 147400], [1520, 525000], [1610, 215000], [1470, 630000], [1660, 250000], [2050, 375000], [990, 225000], [2110, 610000], [3670, 950000], [2060, 885000], [2410, 440000], [3320, 950000], [1050, 440000], [2190, 770000], [2710, 560000], [3310, 658000], [950, 230000], [2300, 350000], [1820, 795000], [1700, 284700], [950, 190000], [2600, 1225000], [2580, 437000], [2850, 875000], [2420, 500000], [1900, 650000], [2470, 339000], [1560, 465000], [1864, 235000], [1120, 320000], [1170, 229950], [940, 252000], [2630, 665000], [1350, 455000], [3020, 910000], [2820, 599000], [1410, 445000], [2600, 1017000], [1730, 521000], [1100, 450000], [1460, 222000], [1600, 690000], [3070, 804100], [1270, 335000], [2250, 750000], [2010, 660500], [2770, 820000], [3360, 850000], [1100, 400000], [2720, 299900], [5020, 1500000], [1300, 155000], [1630, 203000], [1170, 519950], [1730, 459000], [2200, 216600], [1270, 605000], [2090, 785000], [1950, 235000], [4610, 1169000], [1068, 243000], [1590, 284850], [2040, 289950], [1980, 560000], [2510, 368500], [1480, 455000], [2410, 899100], [1740, 255000], [4360, 1555000], [2510, 267000], [2480, 599000], [1200, 355000], [2280, 721000], [1590, 278000], [2200, 300000], [1130, 272000], [1490, 615000], [1100, 199990], [2150, 560000], [1590, 509500], [1730, 328423], [3600, 835000], [1050, 349950], [2010, 530000], [2610, 580000], [1100, 465000], [1340, 313000], [2230, 334950], [2900, 352000], [2140, 367777], [1970, 399950], [1930, 825000], [1950, 269950], [3320, 410000], [1880, 309950], [4190, 1160000], [1850, 360000], [2350, 770000], [1410, 406100], [2070, 445800], [2095, 670000], [1880, 340000], [820, 150000], [1570, 560000], [2090, 350000], [2130, 378000], [1850, 819000], [2460, 995000], [1740, 470000], [720, 329350], [1970, 423000], [1000, 265000], [2370, 338000], [1570, 272950], [3510, 948000], [1850, 489200], [2600, 695000], [1970, 499000], [1430, 133000], [2980, 750000], [1960, 680200], [1110, 369950], [2130, 534640], [1010, 300000], [2160, 798750], [1630, 264500], [1870, 419950], [1410, 546500], [1900, 360000], [1200, 309950], [1880, 405000], [2250, 445838], [2060, 306500], [1320, 467000], [1260, 399900], [2610, 2000000], [1880, 565000], [3240, 609000], [1140, 294570], [1714, 305000], [2350, 1015000], [1909, 630500], [1220, 325000], [3340, 1150000], [1780, 252500], [2360, 875000], [2230, 253000], [720, 338500], [1220, 135000], [2380, 545000], [2530, 720000], [2020, 520000], [1790, 307000], [2170, 850000], [790, 425000], [2950, 930000], [1660, 265000], [1820, 595000], [3260, 565000], [1100, 441000], [1800, 381000], [2100, 567000], [1510, 250000], [1090, 344950], [2050, 479000], [3830, 1100000], [2000, 380000], [3130, 671000], [1800, 539000], [2300, 453000], [1060, 336000], [1610, 430000], [1170, 295000], [2550, 328950], [1680, 540400], [1280, 300000], [1940, 311500], [1480, 890000], [900, 140000], [1320, 250000], [1900, 630000], [2495, 267000], [2520, 865000], [1550, 259000], [2520, 1050000], [1370, 355000], [1920, 480000], [1760, 480000], [1590, 185000], [2660, 523000], [3300, 925000], [3820, 770000], [3420, 890900], [1890, 465000], [780, 220000], [1720, 245000], [1810, 517500], [1760, 440000], [3080, 560000], [1530, 380000], [2420, 755000], [1940, 525000], [2900, 675000], [810, 510000], [2700, 775900], [2520, 272000], [2000, 500000], [1220, 470000], [1830, 300000], [1940, 359000], [1840, 390000], [2960, 550000], [1630, 215000], [2280, 312500], [3190, 865000], [1410, 263000], [3090, 751000], [1540, 462500], [1260, 245000], [1740, 350000], [750, 422000], [3270, 1033888], [1950, 392500], [1910, 240000], [1860, 265000], [3260, 365000], [1470, 432000], [1430, 429000], [1800, 332500], [2980, 495000], [2150, 414999], [1010, 235000], [1650, 619000], [1360, 415000], [3170, 799000], [3840, 1135000], [2440, 350000], [1810, 430000], [1072, 250000], [1930, 855000], [1900, 314000], [1130, 536000], [2870, 710000], [2220, 334990], [1200, 219000], [2240, 279000], [1360, 431200], [2170, 467000], [1930, 733000], [1730, 350000], [1610, 438750], [1220, 500000], [2660, 313100], [1220, 231000], [1570, 342000], [1590, 489950], [2550, 415000], [1880, 545000], [1660, 685000], [2080, 715000], [1510, 250000], [1070, 320000], [2260, 325000], [2030, 910000], [560, 299000], [1220, 310000], [1200, 178500], [2130, 780000], [2120, 425000], [2290, 545000], [2690, 340000], [1870, 335000], [930, 210000], [2260, 514000], [2110, 565000], [2600, 392000], [2560, 390000], [790, 285000], [4590, 3000000], [1760, 450000], [2990, 673000], [890, 230000], [2010, 500000], [630, 396000], [3170, 919950], [2680, 515000], [910, 128000], [2620, 1880000], [2240, 527000], [4660, 1637500], [1010, 550000], [1480, 256000], [1950, 560000], [1240, 540000], [3070, 462000], [1930, 568000], [1970, 490000], [2550, 560000], [1210, 235000], [750, 300000], [1620, 481000], [2390, 355000], [950, 469000], [2060, 324747], [2510, 860000], [1780, 311000], [2520, 689950], [1780, 280000], [3845, 1750000], [2330, 1300000], [2360, 690000], [1880, 423000], [1130, 237000], [1910, 554000], [1730, 360000], [2240, 654000], [1670, 245000], [3550, 450000], [960, 255000], [1780, 325000], [2080, 780000], [3010, 724950], [2300, 567500], [1980, 640000], [1520, 499950], [2550, 375900], [1320, 304000], [2610, 605000], [3850, 995000], [1480, 280000], [1340, 230000], [680, 110700], [2490, 616950], [550, 353000], [950, 482000], [1650, 216300], [1650, 465000], [1630, 280000], [1370, 190000], [1810, 257000], [1140, 195000], [1870, 390000], [2700, 725000], [2620, 399000], [1420, 270000], [1280, 183000], [2150, 285000], [1530, 255000], [1790, 475000], [1000, 332000], [3820, 1620000], [1140, 197200], [2320, 375000], [1000, 305000], [2290, 295000], [1560, 382500], [3100, 1125000], [1740, 340000], [1400, 246000], [1600, 510000], [1840, 521000], [1020, 241000], [1750, 410000], [820, 220000], [2320, 705000], [3720, 1520000], [1780, 477000], [2030, 253779], [1560, 600000], [2210, 429000], [4420, 1205000], [1970, 705000], [6030, 1825000], [2040, 760000], [3100, 700000], [2420, 298500], [1020, 225000], [890, 199990], [1790, 515000], [1850, 383000], [1860, 399950], [1770, 729000], [2090, 562100], [1660, 241000], [1610, 290900], [3500, 998000], [1560, 625000], [900, 465000], [2658, 411605], [1370, 238000], [1580, 213550], [1630, 475000], [3000, 666000], [1790, 346000], [850, 132500], [1460, 186000], [4250, 2450000], [1048, 199950], [1960, 610000], [1570, 360000], [910, 290000], [1500, 270000], [950, 248000], [2340, 505000], [1650, 246000], [3180, 439000], [3500, 790000], [4800, 1079000], [1640, 1014250], [2517, 353900], [3340, 799000], [2090, 659000], [1370, 357000], [1240, 331000], [900, 235000], [2170, 565000], [1450, 395000], [1820, 227490], [1950, 635000], [1680, 675000], [2690, 1650000], [2040, 500000], [2641, 324950], [1920, 260000], [1040, 272000], [1780, 500000], [1150, 552000], [1740, 580000], [1400, 374500], [1100, 300000], [1650, 251000], [1040, 154000], [1640, 575950], [1520, 650000], [2380, 855000], [1940, 495000], [2120, 285000], [1770, 585000], [1750, 232603], [3930, 589000], [2050, 645000], [1480, 440000], [3340, 690000], [1000, 159995], [2980, 820000], [3050, 760000], [2940, 635000], [1010, 347000], [2670, 480000], [3300, 850000], [3130, 1375000], [3090, 844000], [3540, 888550], [870, 312500], [1020, 380000], [1470, 432500], [2570, 495000], [2150, 275000], [1300, 385000], [2290, 326000], [2100, 280000], [1000, 484950], [1820, 422800], [1900, 343500], [1190, 190000], [1010, 300000], [1680, 591000], [750, 261000], [1160, 306000], [1370, 205000], [1440, 350000], [1450, 275000], [1280, 649000], [2780, 475000], [1040, 210000], [2060, 418500], [2020, 640000], [1320, 393000], [1240, 225000], [970, 560000], [2480, 906000], [1730, 625000], [1570, 295000], [900, 325000], [3680, 935000], [1900, 375000], [1880, 625000], [1340, 615000], [3870, 589900], [1220, 370000], [3050, 840000], [2610, 535000], [3450, 805000], [2030, 420000], [1810, 501000], [1310, 222000], [1900, 353000], [1300, 427000], [1330, 202200], [1300, 417000], [4060, 630000], [3180, 900000], [1390, 259000], [1580, 406000], [3290, 750000], [2180, 499900], [2010, 410000], [5530, 1350000], [3550, 810000], [3710, 846450], [1400, 372500], [1640, 265000], [2670, 410000], [1610, 249900], [1670, 507000], [1630, 445000], [1960, 724950], [1420, 371000], [2890, 706000], [2340, 485000], [1200, 235000], [1530, 590000], [1270, 317000], [2700, 420000], [3500, 592500], [1030, 326000], [1430, 424000], [3120, 1955000], [1650, 359000], [2780, 402500], [3280, 1875000], [1730, 525000], [1850, 303000], [960, 305000], [2790, 815000], [3030, 321000], [1230, 464000], [2330, 257000], [1190, 306000], [1630, 468000], [1470, 640000], [1890, 270000], [2730, 733000], [2560, 350000], [7620, 1680000], [1670, 505000], [2280, 335000], [1860, 429000], [770, 203700], [2400, 387500], [3010, 765000], [2050, 535500], [4710, 2180000], [2520, 642860], [1180, 517000], [1420, 202000], [1610, 425000], [1770, 369900], [3200, 725126], [1540, 442500], [3230, 950000], [1100, 505000], [1360, 300000], [1910, 411000], [1520, 345000], [1900, 425000], [1920, 455000], [1240, 290000], [1110, 399000], [3180, 1000000], [2030, 730000], [2140, 435000], [1560, 449950], [1970, 540000], [1970, 315000], [1400, 235000], [2010, 316000], [700, 175000], [1900, 450000], [1330, 443500], [2320, 299000], [1710, 368000], [4460, 1865000], [1760, 810000], [590, 202000], [1260, 490000], [2210, 200000], [2240, 439000], [1240, 459000], [2578, 400950], [1290, 300000], [1440, 285000], [720, 250000], [1650, 267500], [2340, 339900], [2580, 799000], [2550, 808000], [1380, 549900], [3110, 600000], [920, 255000], [1520, 307300], [1900, 504975], [670, 183000], [2000, 320000], [1830, 373000], [1420, 310000], [1530, 570000], [2420, 750000], [2130, 456000], [1230, 387000], [1000, 199000], [1950, 275000], [1500, 289950], [1680, 453000], [1570, 450000], [1280, 281000], [1930, 425000], [2460, 835000], [1460, 381000], [2140, 625000], [1200, 130000], [2040, 730000], [2380, 725000], [1390, 275000], [1130, 485000], [1500, 431000], [1840, 274900], [2220, 494950], [1760, 294500], [2860, 289275], [4040, 760000], [1760, 289200], [2660, 730000], [1300, 267000], [690, 338000], [1340, 485500], [1300, 610000], [680, 179900], [1250, 268000], [1430, 545000], [1820, 359950], [1060, 170500], [5570, 1855000], [5545, 937500], [1730, 423000], [2720, 685000], [3890, 850000], [1910, 293000], [2530, 875000], [1940, 299000], [3320, 667000], [2790, 533380], [3070, 529000], [2710, 359000], [2210, 360000], [2430, 626000], [1670, 500000], [1560, 500000], [2820, 1600000], [2160, 499950], [2900, 310000], [2480, 374900], [1430, 517500], [1400, 403000], [880, 235000], [1170, 312500], [1370, 447000], [1560, 399950], [1660, 975000], [3540, 2200000], [2490, 749500], [1390, 261350], [2400, 856600], [3880, 506000], [3830, 1150000], [2190, 349000], [1710, 675000], [1350, 468500], [830, 385000], [2060, 560000], [2010, 430000], [960, 432000], [1160, 230000], [2470, 470000], [1920, 1011000], [1890, 372000], [770, 259950], [3600, 1415000], [3460, 971971], [2040, 710500], [3620, 996000], [1640, 560000], [980, 499950], [1150, 465000], [2440, 680000], [3000, 850000], [2330, 350000], [1800, 719000], [2250, 648475], [3366, 1300000], [2730, 614285], [2311, 399440], [2310, 400000], [4410, 1500000], [2190, 630000], [2330, 530000], [2620, 550120], [1730, 645000], [2740, 675000], [2993, 540000], [1480, 598950], [1520, 375000], [2400, 523000], [2030, 750000], [2190, 637000], [2310, 469950], [2710, 999000], [4210, 937500], [910, 223000], [3580, 700000], [2000, 755000], [2920, 1540000], [2286, 481000], [2470, 400000], [3770, 1229000], [1650, 282500], [1770, 502550], [2990, 1000000], [1570, 235000], [2720, 739000], [870, 217000], [1470, 479000], [2850, 750000], [1620, 640000], [1890, 255000], [1830, 182500], [2530, 454000], [1830, 270000], [1340, 390000], [2090, 499000], [2010, 825000], [3220, 760000], [1280, 200500], [980, 295000], [1860, 397500], [2170, 831000], [1160, 237000], [3490, 692000], [2690, 620000], [840, 270000], [2620, 738000], [1350, 419950], [1330, 374500], [2480, 498000], [2720, 910000], [4500, 1515000], [3020, 755000], [2300, 330000], [2820, 635000], [1780, 292000], [1430, 350000], [2390, 799000], [1080, 228500], [3300, 484000], [1950, 438000], [4200, 1335000], [2950, 1065500], [2090, 299500], [1970, 289000], [1930, 315000], [1470, 380000], [680, 500000], [2000, 260000], [3680, 770000], [2810, 624000], [1300, 275000], [790, 200000], [2660, 1234000], [1020, 265000], [960, 265000], [2300, 665000], [2120, 615000], [2331, 345000], [1490, 245000], [2340, 385000], [2760, 300000], [1280, 167000], [2020, 405000], [4100, 1350000], [2100, 550000], [2100, 477000], [2050, 550000], [1990, 661000], [710, 264000], [2210, 435000], [1660, 545000], [2920, 1015000], [1970, 265000], [2120, 755000], [880, 312500], [2050, 629000], [3150, 685000], [1580, 280000], [1990, 430000], [2590, 620000], [3050, 890000], [1750, 808250], [1210, 485000], [1510, 265000], [1390, 450000], [2344, 791000], [2770, 679000], [1550, 599000], [1830, 336800], [2270, 304999], [2230, 736500], [2220, 475000], [1990, 328000], [1990, 178000], [2890, 825000], [2440, 566000], [5540, 2575000], [5510, 3800000], [1900, 485000], [3990, 650000], [2580, 459900], [1120, 310000], [3320, 962000], [1520, 425000], [2260, 359950], [1570, 570000], [1920, 324000], [2820, 897000], [1670, 425000], [2790, 533112], [3847, 810000], [770, 315000], [1660, 295000], [2500, 646000], [2460, 405000], [2190, 980000], [1280, 175000], [1370, 359000], [2000, 330000], [3200, 851500], [1060, 420000], [1250, 288349], [3950, 1780000], [2330, 891000], [2060, 575000], [1010, 175000], [4380, 945000], [1613, 279500], [1730, 339950], [1780, 705000], [1480, 580000], [1360, 540000], [2840, 589410], [2530, 349900], [1740, 350000], [2830, 959000], [2230, 1321500], [960, 435000], [1960, 300000], [2430, 1000000], [2370, 530000], [1610, 450000], [1390, 199000], [1120, 240415], [2170, 435000], [2470, 445000], [1210, 660000], [990, 226550], [1620, 345000], [2830, 744000], [1850, 540000], [1480, 500000], [12050, 7700000], [2430, 459950], [2570, 634000], [2420, 820000], [1300, 308000], [1450, 450000], [1480, 335000], [2090, 315000], [1090, 240000], [1800, 360000], [1620, 395000], [1250, 255000], [2030, 302000], [1950, 390000], [1820, 378950], [4790, 1675000], [2500, 372000], [2640, 750000], [1790, 320000], [1090, 190000], [1980, 370000], [2920, 820000], [1290, 521450], [850, 440000], [2460, 452500], [2130, 320000], [1670, 484950], [1320, 259000], [2650, 485000], [1770, 275000], [1470, 445434], [3200, 699000], [2340, 315000], [2260, 795000], [1710, 304000], [1990, 309950], [1910, 570000]], \"columns\": [{\"dtype\": \"str\", \"name\": \"id\"}, {\"dtype\": \"datetime\", \"name\": \"date\"}, {\"dtype\": \"int\", \"name\": \"price\"}, {\"dtype\": \"str\", \"name\": \"bedrooms\"}, {\"dtype\": \"str\", \"name\": \"bathrooms\"}, {\"dtype\": \"int\", \"name\": \"sqft_living\"}, {\"dtype\": \"int\", \"name\": \"sqft_lot\"}, {\"dtype\": \"str\", \"name\": \"floors\"}, {\"dtype\": \"int\", \"name\": \"waterfront\"}, {\"dtype\": \"int\", \"name\": \"view\"}, {\"dtype\": \"int\", \"name\": \"condition\"}, {\"dtype\": \"int\", \"name\": \"grade\"}, {\"dtype\": \"int\", \"name\": \"sqft_above\"}, {\"dtype\": \"int\", \"name\": \"sqft_basement\"}, {\"dtype\": \"int\", \"name\": \"yr_built\"}, {\"dtype\": \"int\", \"name\": \"yr_renovated\"}, {\"dtype\": \"str\", \"name\": \"zipcode\"}, {\"dtype\": \"float\", \"name\": \"lat\"}, {\"dtype\": \"float\", \"name\": \"long\"}, {\"dtype\": \"float\", \"name\": \"sqft_living15\"}, {\"dtype\": \"float\", \"name\": \"sqft_lot15\"}]}, e);\n",
       "                });\n",
       "            })();\n",
       "        "
      ]
     },
     "metadata": {},
     "output_type": "display_data"
    }
   ],
   "source": [
    "graphlab.canvas.set_target('ipynb')\n",
    "sales.show(view=\"Scatter Plot\", x=\"sqft_living\", y=\"price\")"
   ]
  },
  {
   "cell_type": "markdown",
   "metadata": {},
   "source": [
    "#Create a simple regression model of sqft_living to price"
   ]
  },
  {
   "cell_type": "markdown",
   "metadata": {},
   "source": [
    "Split data into training and testing.  \n",
    "We use seed=0 so that everyone running this notebook gets the same results.  In practice, you may set a random seed (or let GraphLab Create pick a random seed for you).  "
   ]
  },
  {
   "cell_type": "code",
   "execution_count": 5,
   "metadata": {
    "collapsed": true
   },
   "outputs": [],
   "source": [
    "train_data,test_data = sales.random_split(.8,seed=0)"
   ]
  },
  {
   "cell_type": "markdown",
   "metadata": {},
   "source": [
    "##Build the regression model using only sqft_living as a feature"
   ]
  },
  {
   "cell_type": "code",
   "execution_count": 6,
   "metadata": {
    "collapsed": false
   },
   "outputs": [
    {
     "name": "stdout",
     "output_type": "stream",
     "text": [
      "PROGRESS: Linear regression:\n",
      "PROGRESS: --------------------------------------------------------\n",
      "PROGRESS: Number of examples          : 17384\n",
      "PROGRESS: Number of features          : 1\n",
      "PROGRESS: Number of unpacked features : 1\n",
      "PROGRESS: Number of coefficients    : 2\n",
      "PROGRESS: Starting Newton Method\n",
      "PROGRESS: --------------------------------------------------------\n",
      "PROGRESS: +-----------+----------+--------------+--------------------+---------------+\n",
      "PROGRESS: | Iteration | Passes   | Elapsed Time | Training-max_error | Training-rmse |\n",
      "PROGRESS: +-----------+----------+--------------+--------------------+---------------+\n",
      "PROGRESS: | 1         | 2        | 1.027067     | 4349521.926170     | 262943.613754 |\n",
      "PROGRESS: +-----------+----------+--------------+--------------------+---------------+\n",
      "PROGRESS: SUCCESS: Optimal solution found.\n",
      "PROGRESS:\n"
     ]
    }
   ],
   "source": [
    "sqft_model = graphlab.linear_regression.create(train_data, target='price', features=['sqft_living'],validation_set=None)"
   ]
  },
  {
   "cell_type": "markdown",
   "metadata": {},
   "source": [
    "#Evaluate the simple model"
   ]
  },
  {
   "cell_type": "code",
   "execution_count": 7,
   "metadata": {
    "collapsed": false
   },
   "outputs": [
    {
     "name": "stdout",
     "output_type": "stream",
     "text": [
      "543054.042563\n"
     ]
    }
   ],
   "source": [
    "print test_data['price'].mean()"
   ]
  },
  {
   "cell_type": "code",
   "execution_count": 9,
   "metadata": {
    "collapsed": false
   },
   "outputs": [
    {
     "name": "stdout",
     "output_type": "stream",
     "text": [
      "{'max_error': 4143550.8825285914, 'rmse': 255191.02870527367}\n"
     ]
    }
   ],
   "source": [
    "print sqft_model.evaluate(test_data)"
   ]
  },
  {
   "cell_type": "markdown",
   "metadata": {},
   "source": [
    "RMSE of about \\$255,170!"
   ]
  },
  {
   "cell_type": "markdown",
   "metadata": {},
   "source": [
    "#Let's show what our predictions look like"
   ]
  },
  {
   "cell_type": "markdown",
   "metadata": {},
   "source": [
    "Matplotlib is a Python plotting library that is also useful for plotting.  You can install it with:\n",
    "\n",
    "'pip install matplotlib'"
   ]
  },
  {
   "cell_type": "code",
   "execution_count": 10,
   "metadata": {
    "collapsed": false
   },
   "outputs": [],
   "source": [
    "import matplotlib.pyplot as plt\n",
    "%matplotlib inline"
   ]
  },
  {
   "cell_type": "code",
   "execution_count": 11,
   "metadata": {
    "collapsed": false
   },
   "outputs": [
    {
     "data": {
      "text/plain": [
       "[<matplotlib.lines.Line2D at 0x1219a89d0>,\n",
       " <matplotlib.lines.Line2D at 0x1219a8b10>]"
      ]
     },
     "execution_count": 11,
     "metadata": {},
     "output_type": "execute_result"
    },
    {
     "data": {
      "image/png": "[encoded data removed]",
      "text/plain": [
       "<matplotlib.figure.Figure at 0x11f497390>"
      ]
     },
     "metadata": {},
     "output_type": "display_data"
    }
   ],
   "source": [
    "plt.plot(test_data['sqft_living'],test_data['price'],'.',\n",
    "        test_data['sqft_living'],sqft_model.predict(test_data),'-')"
   ]
  },
  {
   "cell_type": "markdown",
   "metadata": {},
   "source": [
    "Above:  blue dots are original data, green line is the prediction from the simple regression.\n",
    "\n",
    "Below: we can view the learned regression coefficients. "
   ]
  },
  {
   "cell_type": "code",
   "execution_count": 12,
   "metadata": {
    "collapsed": false
   },
   "outputs": [
    {
     "data": {
      "text/html": [
       "<div style=\"max-height:1000px;max-width:1500px;overflow:auto;\"><table frame=\"box\" rules=\"cols\">\n",
       "    <tr>\n",
       "        <th style=\"padding-left: 1em; padding-right: 1em; text-align: center\">name</th>\n",
       "        <th style=\"padding-left: 1em; padding-right: 1em; text-align: center\">index</th>\n",
       "        <th style=\"padding-left: 1em; padding-right: 1em; text-align: center\">value</th>\n",
       "        <th style=\"padding-left: 1em; padding-right: 1em; text-align: center\">stderr</th>\n",
       "    </tr>\n",
       "    <tr>\n",
       "        <td style=\"padding-left: 1em; padding-right: 1em; text-align: center; vertical-align: top\">(intercept)</td>\n",
       "        <td style=\"padding-left: 1em; padding-right: 1em; text-align: center; vertical-align: top\">None</td>\n",
       "        <td style=\"padding-left: 1em; padding-right: 1em; text-align: center; vertical-align: top\">-47114.0206702</td>\n",
       "        <td style=\"padding-left: 1em; padding-right: 1em; text-align: center; vertical-align: top\">4923.34437753</td>\n",
       "    </tr>\n",
       "    <tr>\n",
       "        <td style=\"padding-left: 1em; padding-right: 1em; text-align: center; vertical-align: top\">sqft_living</td>\n",
       "        <td style=\"padding-left: 1em; padding-right: 1em; text-align: center; vertical-align: top\">None</td>\n",
       "        <td style=\"padding-left: 1em; padding-right: 1em; text-align: center; vertical-align: top\">281.957850166</td>\n",
       "        <td style=\"padding-left: 1em; padding-right: 1em; text-align: center; vertical-align: top\">2.16405465323</td>\n",
       "    </tr>\n",
       "</table>\n",
       "[2 rows x 4 columns]<br/>\n",
       "</div>"
      ],
      "text/plain": [
       "Columns:\n",
       "\tname\tstr\n",
       "\tindex\tstr\n",
       "\tvalue\tfloat\n",
       "\tstderr\tfloat\n",
       "\n",
       "Rows: 2\n",
       "\n",
       "Data:\n",
       "+-------------+-------+----------------+---------------+\n",
       "|     name    | index |     value      |     stderr    |\n",
       "+-------------+-------+----------------+---------------+\n",
       "| (intercept) |  None | -47114.0206702 | 4923.34437753 |\n",
       "| sqft_living |  None | 281.957850166  | 2.16405465323 |\n",
       "+-------------+-------+----------------+---------------+\n",
       "[2 rows x 4 columns]"
      ]
     },
     "execution_count": 12,
     "metadata": {},
     "output_type": "execute_result"
    }
   ],
   "source": [
    "sqft_model.get('coefficients')"
   ]
  },
  {
   "cell_type": "markdown",
   "metadata": {},
   "source": [
    "#Explore other features in the data\n",
    "\n",
    "To build a more elaborate model, we will explore using more features."
   ]
  },
  {
   "cell_type": "code",
   "execution_count": 51,
   "metadata": {
    "collapsed": true
   },
   "outputs": [],
   "source": [
    "my_features = ['bedrooms', 'bathrooms', 'sqft_living', 'sqft_lot', 'floors', 'zipcode']"
   ]
  },
  {
   "cell_type": "code",
   "execution_count": null,
   "metadata": {
    "collapsed": false
   },
   "outputs": [],
   "source": [
    "sales[my_features].show()"
   ]
  },
  {
   "cell_type": "code",
   "execution_count": 19,
   "metadata": {
    "collapsed": false
   },
   "outputs": [
    {
     "data": {
      "application/javascript": [
       "$(\"head\").append($(\"<link/>\").attr({\n",
       "  rel:  \"stylesheet\",\n",
       "  type: \"text/css\",\n",
       "  href: \"//cdnjs.cloudflare.com/ajax/libs/font-awesome/4.1.0/css/font-awesome.min.css\"\n",
       "}));\n",
       "$(\"head\").append($(\"<link/>\").attr({\n",
       "  rel:  \"stylesheet\",\n",
       "  type: \"text/css\",\n",
       "  href: \"//dato.com/files/canvas/1.8.1/css/canvas.css\"\n",
       "}));\n",
       "\n",
       "            (function(){\n",
       "\n",
       "                var e = null;\n",
       "                if (typeof element == 'undefined') {\n",
       "                    var scripts = document.getElementsByTagName('script');\n",
       "                    var thisScriptTag = scripts[scripts.length-1];\n",
       "                    var parentDiv = thisScriptTag.parentNode;\n",
       "                    e = document.createElement('div');\n",
       "                    parentDiv.appendChild(e);\n",
       "                } else {\n",
       "                    e = element[0];\n",
       "                }\n",
       "\n",
       "                if (typeof requirejs !== 'undefined') {\n",
       "                    // disable load timeout; ipython_app.js is large and can take a while to load.\n",
       "                    requirejs.config({waitSeconds: 0});\n",
       "                }\n",
       "\n",
       "                require(['//dato.com/files/canvas/1.8.1/js/ipython_app.js'], function(IPythonApp){\n",
       "                    var app = new IPythonApp();\n",
       "                    app.attachView('sframe','Plots', {\"selected_variable\": {\"name\": [\"sales\"], \"descriptives\": {\"rows\": 21613, \"columns\": 21}, \"view_component\": \"Plots\", \"view_file\": \"sframe\", \"view_params\": {\"y\": \"price\", \"x\": \"zipcode\", \"columns\": [\"id\", \"date\", \"price\", \"bedrooms\", \"bathrooms\", \"sqft_living\", \"sqft_lot\", \"floors\", \"waterfront\", \"view\", \"condition\", \"grade\", \"sqft_above\", \"sqft_basement\", \"yr_built\", \"yr_renovated\", \"zipcode\", \"lat\", \"long\", \"sqft_living15\", \"sqft_lot15\"], \"view\": \"BoxWhisker Plot\"}, \"view_components\": [\"Summary\", \"Table\", \"Bar Chart\", \"BoxWhisker Plot\", \"Line Chart\", \"Scatter Plot\", \"Heat Map\", \"Plots\"], \"type\": \"SFrame\", \"columns\": [{\"dtype\": \"str\", \"name\": \"id\"}, {\"dtype\": \"datetime\", \"name\": \"date\"}, {\"dtype\": \"int\", \"name\": \"price\"}, {\"dtype\": \"str\", \"name\": \"bedrooms\"}, {\"dtype\": \"str\", \"name\": \"bathrooms\"}, {\"dtype\": \"int\", \"name\": \"sqft_living\"}, {\"dtype\": \"int\", \"name\": \"sqft_lot\"}, {\"dtype\": \"str\", \"name\": \"floors\"}, {\"dtype\": \"int\", \"name\": \"waterfront\"}, {\"dtype\": \"int\", \"name\": \"view\"}, {\"dtype\": \"int\", \"name\": \"condition\"}, {\"dtype\": \"int\", \"name\": \"grade\"}, {\"dtype\": \"int\", \"name\": \"sqft_above\"}, {\"dtype\": \"int\", \"name\": \"sqft_basement\"}, {\"dtype\": \"int\", \"name\": \"yr_built\"}, {\"dtype\": \"int\", \"name\": \"yr_renovated\"}, {\"dtype\": \"str\", \"name\": \"zipcode\"}, {\"dtype\": \"float\", \"name\": \"lat\"}, {\"dtype\": \"float\", \"name\": \"long\"}, {\"dtype\": \"float\", \"name\": \"sqft_living15\"}, {\"dtype\": \"float\", \"name\": \"sqft_lot15\"}], \"column_identifiers\": [\"bathrooms\", \"sqft_living15\", \"sqft_above\", \"grade\", \"yr_built\", \"price\", \"bedrooms\", \"zipcode\", \"long\", \"id\", \"sqft_lot15\", \"sqft_living\", \"floors\", \"sqft_lot\", \"date\", \"waterfront\", \"sqft_basement\", \"yr_renovated\", \"lat\", \"condition\", \"view\"]}, \"complete\": 1, \"ipython\": true, \"progress\": 1.0, \"data\": {\"grouped\": [[\"98001\", [100000.0, 115000.0, 180000.0, 184000.0, 215000.0, 260000.0, 320000.0, 420000.0, 427000.0, 625000.0, 850000.0]], [\"98002\", [95000.0, 111300.0, 160000.0, 163500.0, 199950.0, 235000.0, 269000.0, 298900.0, 300000.0, 370000.0, 389000.0]], [\"98003\", [128000.0, 152500.0, 199000.0, 200000.0, 229000.0, 267950.0, 333000.0, 420000.0, 429900.0, 740000.0, 950000.0]], [\"98004\", [425000.0, 595000.0, 695000.0, 720000.0, 845000.0, 1150000.0, 1691000.0, 2150000.0, 2200000.0, 3800000.0, 7062500.0]], [\"98005\", [400000.0, 411100.0, 542500.0, 549000.0, 638700.0, 768500.0, 915000.0, 1110000.0, 1125000.0, 1900000.0, 1960000.0]], [\"98006\", [247500.0, 295000.0, 450000.0, 455000.0, 575000.0, 760369.0, 978000.0, 1380000.0, 1400000.0, 2525000.0, 4208000.0]], [\"98007\", [295000.0, 330000.0, 415500.0, 419000.0, 465000.0, 555000.0, 730000.0, 900000.0, 907500.0, 1229000.0, 1315000.0]], [\"98008\", [250000.0, 277700.0, 405000.0, 415000.0, 465000.0, 545000.0, 660000.0, 850000.0, 899000.0, 3300000.0, 3567000.0]], [\"98010\", [135000.0, 162000.0, 208500.0, 212644.0, 257000.0, 360000.0, 600000.0, 712000.0, 720000.0, 935000.0, 935000.0]], [\"98011\", [245500.0, 260000.0, 347000.0, 361000.0, 411800.0, 470000.0, 550000.0, 632000.0, 650000.0, 870000.0, 1075000.0]], [\"98014\", [80000.0, 134000.0, 167000.0, 180000.0, 309000.0, 415000.0, 539000.0, 739000.0, 755000.0, 1610000.0, 1680000.0]], [\"98019\", [119500.0, 170000.0, 289275.0, 299950.0, 330000.0, 402500.0, 500000.0, 570000.0, 570000.0, 979500.0, 1015000.0]], [\"98022\", [75000.0, 152900.0, 199990.0, 200000.0, 235000.0, 280000.0, 350000.0, 475000.0, 487000.0, 750000.0, 858000.0]], [\"98023\", [86500.0, 115000.0, 188000.0, 193000.0, 224097.0, 268450.0, 316500.0, 402500.0, 415000.0, 629000.0, 1275000.0]], [\"98024\", [142000.0, 142000.0, 258000.0, 260000.0, 340000.0, 460000.0, 700000.0, 997950.0, 1065000.0, 1862000.0, 1862000.0]], [\"98027\", [130000.0, 240000.0, 352499.0, 361000.0, 450000.0, 571000.0, 716500.0, 865000.0, 890000.0, 1800000.0, 2700000.0]], [\"98028\", [160000.0, 196000.0, 300000.0, 310000.0, 379950.0, 445000.0, 526750.0, 610000.0, 619990.0, 1120000.0, 1600000.0]], [\"98029\", [285000.0, 310000.0, 413565.0, 420000.0, 485000.0, 575000.0, 690000.0, 795000.0, 812000.0, 1450000.0, 2200000.0]], [\"98030\", [120000.0, 140000.0, 213400.0, 220000.0, 249950.0, 282510.0, 339950.0, 380000.0, 386000.0, 491000.0, 565000.0]], [\"98031\", [147500.0, 152000.0, 223000.0, 230000.0, 252000.0, 288400.0, 327500.0, 377000.0, 382500.0, 680000.0, 800000.0]], [\"98032\", [85000.0, 85000.0, 165000.0, 169000.0, 221700.0, 249000.0, 285000.0, 321000.0, 324900.0, 400000.0, 545000.0]], [\"98033\", [130000.0, 305000.0, 425000.0, 437500.0, 535000.0, 678700.0, 902000.0, 1339000.0, 1378000.0, 2650000.0, 5110800.0]], [\"98034\", [90000.0, 257000.0, 330000.0, 335000.0, 387000.0, 445950.0, 525000.0, 749950.0, 799950.0, 2125000.0, 3120000.0]], [\"98038\", [110000.0, 176000.0, 240000.0, 245000.0, 285000.0, 342000.0, 410000.0, 533000.0, 540000.0, 849000.0, 1350000.0]], [\"98039\", [787500.0, 787500.0, 940000.0, 1000000.0, 1398000.0, 1905000.0, 2575000.0, 3640900.0, 3640900.0, 6885000.0, 6885000.0]], [\"98040\", [500000.0, 550000.0, 685000.0, 698000.0, 821000.0, 994000.0, 1387000.0, 1815000.0, 1900000.0, 3850000.0, 5300000.0]], [\"98042\", [105000.0, 132825.0, 200000.0, 204000.0, 240000.0, 292500.0, 359950.0, 444900.0, 450000.0, 734000.0, 859000.0]], [\"98045\", [175000.0, 189000.0, 259000.0, 271000.0, 305000.0, 399500.0, 495000.0, 665000.0, 688000.0, 1075000.0, 1950000.0]], [\"98052\", [225000.0, 315000.0, 425000.0, 432100.0, 509250.0, 615000.0, 751000.0, 852500.0, 872750.0, 1299888.0, 2200000.0]], [\"98053\", [170000.0, 300000.0, 400000.0, 405000.0, 485000.0, 635000.0, 790500.0, 955990.0, 975000.0, 1769000.0, 2280000.0]], [\"98055\", [100000.0, 126000.0, 192000.0, 197500.0, 240000.0, 295000.0, 350000.0, 430000.0, 440000.0, 580000.0, 631000.0]], [\"98056\", [139000.0, 155000.0, 230000.0, 231500.0, 289000.0, 380000.0, 510000.0, 635000.0, 640000.0, 980000.0, 3000000.0]], [\"98058\", [95000.0, 144000.0, 225000.0, 230000.0, 285000.0, 335000.0, 392000.0, 475000.0, 485000.0, 790000.0, 1500000.0]], [\"98059\", [172500.0, 217000.0, 291375.0, 294500.0, 340000.0, 435000.0, 552500.0, 751000.0, 785000.0, 1300000.0, 1780000.0]], [\"98065\", [170000.0, 208000.0, 323000.0, 335000.0, 424950.0, 500000.0, 619000.0, 710000.0, 723000.0, 1145000.0, 1998000.0]], [\"98070\", [160000.0, 181000.0, 280000.0, 285000.0, 340000.0, 465000.0, 575000.0, 729000.0, 730000.0, 1350000.0, 1379900.0]], [\"98072\", [200000.0, 275000.0, 357823.0, 365000.0, 422800.0, 515000.0, 642860.0, 879000.0, 905000.0, 1350000.0, 1565000.0]], [\"98074\", [280000.0, 325000.0, 420000.0, 434900.0, 532000.0, 642000.0, 798000.0, 922755.0, 929000.0, 1675000.0, 3075000.0]], [\"98075\", [406430.0, 432000.0, 545000.0, 550000.0, 641000.0, 739999.0, 870000.0, 1060000.0, 1062500.0, 2000000.0, 3200000.0]], [\"98077\", [250000.0, 274975.0, 335000.0, 353000.0, 510000.0, 654950.0, 835000.0, 950000.0, 985000.0, 1820000.0, 1920000.0]], [\"98092\", [90000.0, 148226.0, 210000.0, 216000.0, 263950.0, 309780.0, 379500.0, 471275.0, 480000.0, 835000.0, 930000.0]], [\"98102\", [330000.0, 350000.0, 440000.0, 475000.0, 575000.0, 720000.0, 979700.0, 1440000.0, 1443917.0, 2479000.0, 7700000.0]], [\"98103\", [238000.0, 259250.0, 352950.0, 355000.0, 432000.0, 550000.0, 695000.0, 830000.0, 850000.0, 1350000.0, 1695000.0]], [\"98105\", [380000.0, 395000.0, 483000.0, 485000.0, 550000.0, 675000.0, 1005000.0, 1415000.0, 1482500.0, 2555000.0, 3650000.0]], [\"98106\", [90000.0, 107000.0, 208400.0, 210000.0, 260000.0, 315000.0, 366000.0, 426000.0, 435000.0, 625000.0, 795000.0]], [\"98107\", [290000.0, 356000.0, 425000.0, 430000.0, 470000.0, 529950.0, 630000.0, 752500.0, 769950.0, 1205000.0, 2945000.0]], [\"98108\", [90000.0, 130000.0, 230000.0, 230000.0, 284000.0, 345000.0, 425000.0, 491000.0, 500000.0, 635000.0, 640000.0]], [\"98109\", [216650.0, 216650.0, 478000.0, 479000.0, 620000.0, 736000.0, 1000000.0, 1450000.0, 1450000.0, 2900000.0, 3200000.0]], [\"98112\", [169317.0, 350000.0, 515000.0, 524000.0, 680000.0, 915000.0, 1328000.0, 1975000.0, 2048000.0, 3000000.0, 3400000.0]], [\"98115\", [200000.0, 289500.0, 395000.0, 399000.0, 455000.0, 567000.0, 719000.0, 897000.0, 925000.0, 1500000.0, 2300000.0]], [\"98116\", [130000.0, 252000.0, 386950.0, 390000.0, 460000.0, 565500.0, 703000.0, 930000.0, 950000.0, 1598888.0, 2050000.0]], [\"98117\", [125000.0, 280000.0, 375000.0, 390000.0, 450000.0, 544000.0, 657500.0, 825000.0, 850000.0, 1275000.0, 1370000.0]], [\"98118\", [109000.0, 155000.0, 221000.0, 226000.0, 289000.0, 367500.0, 476500.0, 665000.0, 680000.0, 1309500.0, 2903000.0]], [\"98119\", [300523.0, 365000.0, 485000.0, 490000.0, 600000.0, 749950.0, 940000.0, 1320000.0, 1330000.0, 2630000.0, 3065000.0]], [\"98122\", [202000.0, 260000.0, 375000.0, 385000.0, 450000.0, 574000.0, 720000.0, 920000.0, 925000.0, 1850000.0, 2050000.0]], [\"98125\", [175000.0, 228000.0, 303697.0, 310000.0, 357250.0, 425000.0, 518000.0, 675000.0, 689000.0, 1335000.0, 2050000.0]], [\"98126\", [110000.0, 183000.0, 250000.0, 255000.0, 320000.0, 396500.0, 485000.0, 643500.0, 661000.0, 901000.0, 1085000.0]], [\"98133\", [130000.0, 210000.0, 275000.0, 277500.0, 318000.0, 375000.0, 435000.0, 507000.0, 518000.0, 729953.0, 808100.0]], [\"98136\", [200000.0, 229050.0, 340000.0, 345000.0, 398000.0, 489950.0, 660000.0, 838000.0, 850000.0, 1662000.0, 2230000.0]], [\"98144\", [181000.0, 230000.0, 325000.0, 327000.0, 374950.0, 450000.0, 666000.0, 970000.0, 1039000.0, 2450000.0, 3600000.0]], [\"98146\", [82000.0, 104950.0, 158800.0, 175000.0, 229500.0, 307000.0, 409000.0, 605000.0, 665900.0, 1250000.0, 1410000.0]], [\"98148\", [105500.0, 105500.0, 193000.0, 193000.0, 240000.0, 278000.0, 319990.0, 375000.0, 375000.0, 600600.0, 600600.0]], [\"98155\", [153000.0, 195000.0, 267800.0, 270000.0, 315000.0, 375000.0, 460000.0, 590000.0, 600000.0, 1680000.0, 4500000.0]], [\"98166\", [100000.0, 129888.0, 220000.0, 229000.0, 292000.0, 390000.0, 540500.0, 755000.0, 770000.0, 1899000.0, 2510000.0]], [\"98168\", [78000.0, 82500.0, 150550.0, 158000.0, 199950.0, 235000.0, 285000.0, 325000.0, 327200.0, 424305.0, 600000.0]], [\"98177\", [245560.0, 276000.0, 355950.0, 367500.0, 427000.0, 554000.0, 749950.0, 1075000.0, 1200000.0, 2880500.0, 3800000.0]], [\"98178\", [90000.0, 119900.0, 180000.0, 188000.0, 223000.0, 279000.0, 350000.0, 450000.0, 460000.0, 869000.0, 1700000.0]], [\"98188\", [110000.0, 110700.0, 179000.0, 179950.0, 230000.0, 265000.0, 335000.0, 400200.0, 408000.0, 706000.0, 707000.0]], [\"98198\", [95000.0, 120000.0, 174500.0, 175000.0, 216500.0, 265000.0, 340000.0, 455000.0, 475000.0, 950000.0, 1350000.0]], [\"98199\", [323000.0, 334000.0, 419000.0, 425000.0, 535000.0, 689800.0, 950000.0, 1289000.0, 1300000.0, 2160000.0, 3200000.0]]], \"omitted\": 0}, \"columns\": [{\"dtype\": \"str\", \"name\": \"id\"}, {\"dtype\": \"datetime\", \"name\": \"date\"}, {\"dtype\": \"int\", \"name\": \"price\"}, {\"dtype\": \"str\", \"name\": \"bedrooms\"}, {\"dtype\": \"str\", \"name\": \"bathrooms\"}, {\"dtype\": \"int\", \"name\": \"sqft_living\"}, {\"dtype\": \"int\", \"name\": \"sqft_lot\"}, {\"dtype\": \"str\", \"name\": \"floors\"}, {\"dtype\": \"int\", \"name\": \"waterfront\"}, {\"dtype\": \"int\", \"name\": \"view\"}, {\"dtype\": \"int\", \"name\": \"condition\"}, {\"dtype\": \"int\", \"name\": \"grade\"}, {\"dtype\": \"int\", \"name\": \"sqft_above\"}, {\"dtype\": \"int\", \"name\": \"sqft_basement\"}, {\"dtype\": \"int\", \"name\": \"yr_built\"}, {\"dtype\": \"int\", \"name\": \"yr_renovated\"}, {\"dtype\": \"str\", \"name\": \"zipcode\"}, {\"dtype\": \"float\", \"name\": \"lat\"}, {\"dtype\": \"float\", \"name\": \"long\"}, {\"dtype\": \"float\", \"name\": \"sqft_living15\"}, {\"dtype\": \"float\", \"name\": \"sqft_lot15\"}]}, e);\n",
       "                });\n",
       "            })();\n",
       "        "
      ]
     },
     "metadata": {},
     "output_type": "display_data"
    }
   ],
   "source": [
    "sales.show(view='BoxWhisker Plot', x='zipcode', y='price')"
   ]
  },
  {
   "cell_type": "markdown",
   "metadata": {},
   "source": [
    "Pull the bar at the bottom to view more of the data.  \n",
    "\n",
    "98039 is the most expensive zip code."
   ]
  },
  {
   "cell_type": "code",
   "execution_count": 26,
   "metadata": {
    "collapsed": false
   },
   "outputs": [
    {
     "data": {
      "application/javascript": [
       "$(\"head\").append($(\"<link/>\").attr({\n",
       "  rel:  \"stylesheet\",\n",
       "  type: \"text/css\",\n",
       "  href: \"//cdnjs.cloudflare.com/ajax/libs/font-awesome/4.1.0/css/font-awesome.min.css\"\n",
       "}));\n",
       "$(\"head\").append($(\"<link/>\").attr({\n",
       "  rel:  \"stylesheet\",\n",
       "  type: \"text/css\",\n",
       "  href: \"//dato.com/files/canvas/1.8.1/css/canvas.css\"\n",
       "}));\n",
       "\n",
       "            (function(){\n",
       "\n",
       "                var e = null;\n",
       "                if (typeof element == 'undefined') {\n",
       "                    var scripts = document.getElementsByTagName('script');\n",
       "                    var thisScriptTag = scripts[scripts.length-1];\n",
       "                    var parentDiv = thisScriptTag.parentNode;\n",
       "                    e = document.createElement('div');\n",
       "                    parentDiv.appendChild(e);\n",
       "                } else {\n",
       "                    e = element[0];\n",
       "                }\n",
       "\n",
       "                if (typeof requirejs !== 'undefined') {\n",
       "                    // disable load timeout; ipython_app.js is large and can take a while to load.\n",
       "                    requirejs.config({waitSeconds: 0});\n",
       "                }\n",
       "\n",
       "                require(['//dato.com/files/canvas/1.8.1/js/ipython_app.js'], function(IPythonApp){\n",
       "                    var app = new IPythonApp();\n",
       "                    app.attachView('sframe','Summary', {\"ipython\": true, \"sketch\": {\"bathrooms\": {\"complete\": true, \"numeric\": false, \"num_unique\": 20, \"num_undefined\": 0, \"progress\": 1.0, \"frequent_items\": {\"4.5\": {\"frequency\": 2, \"value\": \"4.5\"}, \"1.5\": {\"frequency\": 1, \"value\": \"1.5\"}, \"5.5\": {\"frequency\": 1, \"value\": \"5.5\"}, \"3.75\": {\"frequency\": 2, \"value\": \"3.75\"}, \"2.75\": {\"frequency\": 4, \"value\": \"2.75\"}, \"5.25\": {\"frequency\": 2, \"value\": \"5.25\"}, \"4.25\": {\"frequency\": 1, \"value\": \"4.25\"}, \"1\": {\"frequency\": 3, \"value\": \"1\"}, \"1.75\": {\"frequency\": 2, \"value\": \"1.75\"}, \"3\": {\"frequency\": 4, \"value\": \"3\"}, \"7.75\": {\"frequency\": 1, \"value\": \"7.75\"}, \"3.5\": {\"frequency\": 5, \"value\": \"3.5\"}, \"4\": {\"frequency\": 1, \"value\": \"4\"}, \"6\": {\"frequency\": 1, \"value\": \"6\"}, \"2\": {\"frequency\": 2, \"value\": \"2\"}, \"3.25\": {\"frequency\": 5, \"value\": \"3.25\"}, \"5\": {\"frequency\": 1, \"value\": \"5\"}, \"5.75\": {\"frequency\": 1, \"value\": \"5.75\"}, \"2.5\": {\"frequency\": 5, \"value\": \"2.5\"}, \"2.25\": {\"frequency\": 6, \"value\": \"2.25\"}}, \"size\": 50}, \"sqft_living15\": {\"std\": 694.4848162487067, \"complete\": true, \"min\": 1590.0, \"max\": 4660.0, \"quantile\": [1590.0, 1590.0, 1910.0, 1910.0, 1910.0, 1910.0, 1980.0, 1980.0, 2010.0, 2010.0, 2050.0, 2050.0, 2050.0, 2060.0, 2060.0, 2200.0, 2270.0, 2270.0, 2660.0, 2660.0, 2760.0, 2760.0, 2760.0, 2760.0, 2790.0, 2790.0, 2870.0, 2870.0, 2890.0, 2890.0, 2910.0, 2910.0, 2970.0, 2970.0, 2980.0, 2980.0, 3000.0, 3000.0, 3000.0, 3000.0, 3000.0, 3000.0, 3010.0, 3010.0, 3060.0, 3060.0, 3070.0, 3070.0, 3070.0, 3070.0, 3140.0, 3140.0, 3160.0, 3160.0, 3240.0, 3240.0, 3240.0, 3240.0, 3360.0, 3360.0, 3400.0, 3400.0, 3410.0, 3410.0, 3450.0, 3450.0, 3480.0, 3480.0, 3510.0, 3510.0, 3520.0, 3520.0, 3560.0, 3560.0, 3570.0, 3570.0, 3580.0, 3580.0, 3620.0, 3620.0, 3650.0, 3650.0, 3780.0, 3780.0, 3820.0, 3820.0, 3840.0, 3840.0, 3930.0, 3930.0, 3930.0, 3930.0, 3960.0, 3960.0, 4480.0, 4480.0, 4540.0, 4540.0, 4660.0, 4660.0, 4660.0], \"median\": 3140.0, \"numeric\": true, \"num_unique\": 43, \"num_undefined\": 0, \"var\": 482309.16, \"progress\": 1.0, \"size\": 50, \"frequent_items\": {\"4480.0\": {\"frequency\": 1, \"value\": 4480.0}, \"3840.0\": {\"frequency\": 1, \"value\": 3840.0}, \"2050.0\": {\"frequency\": 1, \"value\": 2050.0}, \"2060.0\": {\"frequency\": 1, \"value\": 2060.0}, \"3650.0\": {\"frequency\": 1, \"value\": 3650.0}, \"3480.0\": {\"frequency\": 1, \"value\": 3480.0}, \"2200.0\": {\"frequency\": 1, \"value\": 2200.0}, \"3780.0\": {\"frequency\": 1, \"value\": 3780.0}, \"2970.0\": {\"frequency\": 1, \"value\": 2970.0}, \"3930.0\": {\"frequency\": 2, \"value\": 3930.0}, \"3360.0\": {\"frequency\": 1, \"value\": 3360.0}, \"2980.0\": {\"frequency\": 1, \"value\": 2980.0}, \"3240.0\": {\"frequency\": 2, \"value\": 3240.0}, \"3400.0\": {\"frequency\": 1, \"value\": 3400.0}, \"4660.0\": {\"frequency\": 1, \"value\": 4660.0}, \"2910.0\": {\"frequency\": 1, \"value\": 2910.0}, \"2870.0\": {\"frequency\": 1, \"value\": 2870.0}, \"3000.0\": {\"frequency\": 3, \"value\": 3000.0}, \"4540.0\": {\"frequency\": 1, \"value\": 4540.0}, \"3520.0\": {\"frequency\": 1, \"value\": 3520.0}, \"3010.0\": {\"frequency\": 1, \"value\": 3010.0}, \"3140.0\": {\"frequency\": 1, \"value\": 3140.0}, \"1590.0\": {\"frequency\": 1, \"value\": 1590.0}, \"3510.0\": {\"frequency\": 1, \"value\": 3510.0}, \"2760.0\": {\"frequency\": 2, \"value\": 2760.0}, \"2890.0\": {\"frequency\": 1, \"value\": 2890.0}, \"3410.0\": {\"frequency\": 1, \"value\": 3410.0}, \"3160.0\": {\"frequency\": 1, \"value\": 3160.0}, \"3620.0\": {\"frequency\": 1, \"value\": 3620.0}, \"2010.0\": {\"frequency\": 1, \"value\": 2010.0}, \"2270.0\": {\"frequency\": 1, \"value\": 2270.0}, \"2660.0\": {\"frequency\": 1, \"value\": 2660.0}, \"2790.0\": {\"frequency\": 1, \"value\": 2790.0}, \"3560.0\": {\"frequency\": 1, \"value\": 3560.0}, \"1980.0\": {\"frequency\": 1, \"value\": 1980.0}, \"3820.0\": {\"frequency\": 1, \"value\": 3820.0}, \"3570.0\": {\"frequency\": 1, \"value\": 3570.0}, \"3060.0\": {\"frequency\": 1, \"value\": 3060.0}, \"1910.0\": {\"frequency\": 2, \"value\": 1910.0}, \"3960.0\": {\"frequency\": 1, \"value\": 3960.0}, \"3450.0\": {\"frequency\": 1, \"value\": 3450.0}, \"3580.0\": {\"frequency\": 1, \"value\": 3580.0}, \"3070.0\": {\"frequency\": 2, \"value\": 3070.0}}, \"mean\": 3132.1999999999994}, \"sqft_above\": {\"std\": 1579.396622131376, \"complete\": true, \"min\": 1080.0, \"max\": 8860.0, \"quantile\": [1080.0, 1080.0, 1150.0, 1150.0, 1220.0, 1220.0, 1220.0, 1220.0, 1320.0, 1320.0, 1530.0, 1530.0, 1530.0, 1560.0, 1560.0, 1590.0, 1640.0, 1640.0, 1770.0, 1770.0, 1820.0, 1820.0, 1960.0, 1960.0, 2070.0, 2070.0, 2070.0, 2070.0, 2150.0, 2150.0, 2170.0, 2170.0, 2350.0, 2350.0, 2550.0, 2550.0, 2570.0, 2570.0, 2620.0, 2620.0, 2680.0, 2680.0, 2740.0, 2740.0, 2870.0, 2870.0, 3060.0, 3060.0, 3090.0, 3090.0, 3130.0, 3130.0, 3250.0, 3250.0, 3290.0, 3290.0, 3350.0, 3350.0, 3410.0, 3410.0, 3550.0, 3550.0, 3660.0, 3660.0, 3990.0, 3990.0, 4040.0, 4040.0, 4065.0, 4065.0, 4210.0, 4210.0, 4240.0, 4240.0, 4290.0, 4290.0, 4300.0, 4300.0, 4430.0, 4430.0, 4670.0, 4670.0, 4830.0, 4830.0, 4860.0, 4860.0, 5180.0, 5180.0, 5190.0, 5190.0, 5450.0, 5450.0, 5490.0, 5490.0, 5760.0, 5760.0, 6200.0, 6200.0, 8860.0, 8860.0, 8860.0], \"median\": 3130.0, \"numeric\": true, \"num_unique\": 48, \"num_undefined\": 0, \"var\": 2494493.6900000004, \"progress\": 1.0, \"size\": 50, \"frequent_items\": {\"5760\": {\"frequency\": 1, \"value\": 5760}, \"2070\": {\"frequency\": 2, \"value\": 2070}, \"2570\": {\"frequency\": 1, \"value\": 2570}, \"4240\": {\"frequency\": 1, \"value\": 4240}, \"3090\": {\"frequency\": 1, \"value\": 3090}, \"3350\": {\"frequency\": 1, \"value\": 3350}, \"1560\": {\"frequency\": 1, \"value\": 1560}, \"8860\": {\"frequency\": 1, \"value\": 8860}, \"1320\": {\"frequency\": 1, \"value\": 1320}, \"1820\": {\"frequency\": 1, \"value\": 1820}, \"5490\": {\"frequency\": 1, \"value\": 5490}, \"2350\": {\"frequency\": 1, \"value\": 2350}, \"3250\": {\"frequency\": 1, \"value\": 3250}, \"2740\": {\"frequency\": 1, \"value\": 2740}, \"4830\": {\"frequency\": 1, \"value\": 4830}, \"2870\": {\"frequency\": 1, \"value\": 2870}, \"1080\": {\"frequency\": 1, \"value\": 1080}, \"3130\": {\"frequency\": 1, \"value\": 3130}, \"3990\": {\"frequency\": 1, \"value\": 3990}, \"2620\": {\"frequency\": 1, \"value\": 2620}, \"4670\": {\"frequency\": 1, \"value\": 4670}, \"4290\": {\"frequency\": 1, \"value\": 4290}, \"1220\": {\"frequency\": 2, \"value\": 1220}, \"1590\": {\"frequency\": 1, \"value\": 1590}, \"5190\": {\"frequency\": 1, \"value\": 5190}, \"4040\": {\"frequency\": 1, \"value\": 4040}, \"4300\": {\"frequency\": 1, \"value\": 4300}, \"5450\": {\"frequency\": 1, \"value\": 5450}, \"3660\": {\"frequency\": 1, \"value\": 3660}, \"4430\": {\"frequency\": 1, \"value\": 4430}, \"6200\": {\"frequency\": 1, \"value\": 6200}, \"3410\": {\"frequency\": 1, \"value\": 3410}, \"3290\": {\"frequency\": 1, \"value\": 3290}, \"2170\": {\"frequency\": 1, \"value\": 2170}, \"3550\": {\"frequency\": 1, \"value\": 3550}, \"4065\": {\"frequency\": 1, \"value\": 4065}, \"2150\": {\"frequency\": 1, \"value\": 2150}, \"1640\": {\"frequency\": 1, \"value\": 1640}, \"5180\": {\"frequency\": 1, \"value\": 5180}, \"1770\": {\"frequency\": 1, \"value\": 1770}, \"1960\": {\"frequency\": 1, \"value\": 1960}, \"4210\": {\"frequency\": 1, \"value\": 4210}, \"3060\": {\"frequency\": 1, \"value\": 3060}, \"2550\": {\"frequency\": 1, \"value\": 2550}, \"2680\": {\"frequency\": 1, \"value\": 2680}, \"1530\": {\"frequency\": 1, \"value\": 1530}, \"4860\": {\"frequency\": 1, \"value\": 4860}, \"1150\": {\"frequency\": 1, \"value\": 1150}}, \"mean\": 3290.899999999999}, \"grade\": {\"std\": 1.6390240998838301, \"complete\": true, \"min\": 7.0, \"max\": 13.0, \"quantile\": [7.0, 7.0, 7.0, 7.0, 7.0, 7.0, 7.0, 7.0, 7.0, 7.0, 7.0, 7.0, 7.0, 8.0, 8.0, 8.0, 8.0, 8.0, 8.0, 8.0, 8.0, 8.0, 8.0, 8.0, 8.0, 8.0, 8.0, 8.0, 9.0, 9.0, 9.0, 9.0, 9.0, 9.0, 9.0, 9.0, 9.0, 9.0, 9.0, 9.0, 9.0, 9.0, 9.0, 9.0, 9.0, 9.0, 9.0, 9.0, 9.0, 9.0, 9.0, 9.0, 9.0, 9.0, 10.0, 10.0, 10.0, 10.0, 10.0, 10.0, 10.0, 10.0, 10.0, 10.0, 10.0, 10.0, 11.0, 11.0, 11.0, 11.0, 11.0, 11.0, 11.0, 11.0, 11.0, 11.0, 11.0, 11.0, 11.0, 11.0, 11.0, 11.0, 11.0, 11.0, 11.0, 11.0, 11.0, 11.0, 12.0, 12.0, 12.0, 12.0, 12.0, 12.0, 12.0, 12.0, 13.0, 13.0, 13.0, 13.0, 13.0], \"median\": 9.0, \"numeric\": true, \"num_unique\": 7, \"num_undefined\": 0, \"var\": 2.6864, \"progress\": 1.0, \"size\": 50, \"frequent_items\": {\"7\": {\"frequency\": 6, \"value\": 7}, \"8\": {\"frequency\": 8, \"value\": 8}, \"9\": {\"frequency\": 13, \"value\": 9}, \"10\": {\"frequency\": 6, \"value\": 10}, \"11\": {\"frequency\": 11, \"value\": 11}, \"12\": {\"frequency\": 4, \"value\": 12}, \"13\": {\"frequency\": 2, \"value\": 13}}, \"mean\": 9.56}, \"yr_built\": {\"std\": 25.300782596591798, \"complete\": true, \"min\": 1902.0, \"max\": 2014.0, \"quantile\": [1902.0, 1902.0, 1924.0, 1924.0, 1929.0, 1929.0, 1942.0, 1942.0, 1946.0, 1946.0, 1946.0, 1946.0, 1946.0, 1949.0, 1949.0, 1950.0, 1952.0, 1952.0, 1953.0, 1953.0, 1953.0, 1953.0, 1954.0, 1954.0, 1954.0, 1954.0, 1954.0, 1954.0, 1955.0, 1955.0, 1955.0, 1955.0, 1955.0, 1955.0, 1959.0, 1959.0, 1962.0, 1962.0, 1962.0, 1962.0, 1962.0, 1962.0, 1963.0, 1963.0, 1963.0, 1963.0, 1963.0, 1963.0, 1964.0, 1964.0, 1968.0, 1968.0, 1975.0, 1975.0, 1977.0, 1977.0, 1979.0, 1979.0, 1984.0, 1984.0, 1985.0, 1985.0, 1985.0, 1985.0, 1987.0, 1987.0, 1988.0, 1988.0, 1989.0, 1989.0, 1990.0, 1990.0, 1992.0, 1992.0, 1996.0, 1996.0, 2000.0, 2000.0, 2001.0, 2001.0, 2001.0, 2001.0, 2001.0, 2001.0, 2001.0, 2001.0, 2004.0, 2004.0, 2005.0, 2005.0, 2006.0, 2006.0, 2006.0, 2006.0, 2008.0, 2008.0, 2013.0, 2013.0, 2014.0, 2014.0, 2014.0], \"median\": 1968.0, \"numeric\": true, \"num_unique\": 35, \"num_undefined\": 0, \"var\": 640.1296000000024, \"progress\": 1.0, \"size\": 50, \"frequent_items\": {\"1924\": {\"frequency\": 1, \"value\": 1924}, \"1929\": {\"frequency\": 1, \"value\": 1929}, \"1942\": {\"frequency\": 1, \"value\": 1942}, \"1946\": {\"frequency\": 2, \"value\": 1946}, \"1949\": {\"frequency\": 1, \"value\": 1949}, \"1950\": {\"frequency\": 1, \"value\": 1950}, \"1952\": {\"frequency\": 1, \"value\": 1952}, \"1953\": {\"frequency\": 2, \"value\": 1953}, \"1954\": {\"frequency\": 3, \"value\": 1954}, \"1955\": {\"frequency\": 3, \"value\": 1955}, \"1959\": {\"frequency\": 1, \"value\": 1959}, \"1962\": {\"frequency\": 3, \"value\": 1962}, \"1963\": {\"frequency\": 3, \"value\": 1963}, \"1964\": {\"frequency\": 1, \"value\": 1964}, \"1968\": {\"frequency\": 1, \"value\": 1968}, \"1975\": {\"frequency\": 1, \"value\": 1975}, \"1977\": {\"frequency\": 1, \"value\": 1977}, \"1979\": {\"frequency\": 1, \"value\": 1979}, \"1984\": {\"frequency\": 1, \"value\": 1984}, \"1985\": {\"frequency\": 2, \"value\": 1985}, \"1987\": {\"frequency\": 1, \"value\": 1987}, \"1988\": {\"frequency\": 1, \"value\": 1988}, \"1989\": {\"frequency\": 1, \"value\": 1989}, \"1990\": {\"frequency\": 1, \"value\": 1990}, \"1992\": {\"frequency\": 1, \"value\": 1992}, \"1996\": {\"frequency\": 1, \"value\": 1996}, \"2000\": {\"frequency\": 1, \"value\": 2000}, \"2001\": {\"frequency\": 4, \"value\": 2001}, \"2004\": {\"frequency\": 1, \"value\": 2004}, \"2005\": {\"frequency\": 1, \"value\": 2005}, \"2006\": {\"frequency\": 2, \"value\": 2006}, \"2008\": {\"frequency\": 1, \"value\": 2008}, \"2013\": {\"frequency\": 1, \"value\": 2013}, \"2014\": {\"frequency\": 1, \"value\": 2014}, \"1902\": {\"frequency\": 1, \"value\": 1902}}, \"mean\": 1972.52}, \"price\": {\"std\": 1154753.655025365, \"complete\": true, \"min\": 787500.0, \"max\": 6885000.0, \"quantile\": [787500.0, 787500.0, 865000.0, 865000.0, 875000.0, 875000.0, 937500.0, 937500.0, 940000.0, 940000.0, 1000000.0, 1000000.0, 1000000.0, 1160000.0, 1160000.0, 1200000.0, 1225000.0, 1225000.0, 1260000.0, 1260000.0, 1320000.0, 1320000.0, 1350000.0, 1350000.0, 1398000.0, 1398000.0, 1410000.0, 1410000.0, 1450000.0, 1450000.0, 1550000.0, 1550000.0, 1555000.0, 1555000.0, 1620000.0, 1620000.0, 1651000.0, 1651000.0, 1712750.0, 1712750.0, 1762000.0, 1762000.0, 1800000.0, 1800000.0, 1865000.0, 1865000.0, 1880000.0, 1880000.0, 1880000.0, 1880000.0, 1905000.0, 1905000.0, 1920000.0, 1920000.0, 1950000.0, 1950000.0, 1950000.0, 1950000.0, 2100000.0, 2100000.0, 2187730.0, 2187730.0, 2200000.0, 2200000.0, 2250000.0, 2250000.0, 2271150.0, 2271150.0, 2450000.0, 2450000.0, 2458000.0, 2458000.0, 2500000.0, 2500000.0, 2575000.0, 2575000.0, 2680000.0, 2680000.0, 2720000.0, 2720000.0, 2750000.0, 2750000.0, 2900000.0, 2900000.0, 2950000.0, 2950000.0, 3418800.0, 3418800.0, 3635000.0, 3635000.0, 3640900.0, 3640900.0, 3710000.0, 3710000.0, 4000000.0, 4000000.0, 5570000.0, 5570000.0, 6885000.0, 6885000.0, 6885000.0], \"median\": 1905000.0, \"numeric\": true, \"num_unique\": 48, \"num_undefined\": 0, \"var\": 1333456003794.44, \"progress\": 1.0, \"size\": 50, \"frequent_items\": {\"4000000\": {\"frequency\": 1, \"value\": 4000000}, \"1200000\": {\"frequency\": 1, \"value\": 1200000}, \"1880000\": {\"frequency\": 2, \"value\": 1880000}, \"6885000\": {\"frequency\": 1, \"value\": 6885000}, \"1905000\": {\"frequency\": 1, \"value\": 1905000}, \"2720000\": {\"frequency\": 1, \"value\": 2720000}, \"1450000\": {\"frequency\": 1, \"value\": 1450000}, \"2200000\": {\"frequency\": 1, \"value\": 2200000}, \"1260000\": {\"frequency\": 1, \"value\": 1260000}, \"2680000\": {\"frequency\": 1, \"value\": 2680000}, \"2575000\": {\"frequency\": 1, \"value\": 2575000}, \"937500\": {\"frequency\": 1, \"value\": 937500}, \"1800000\": {\"frequency\": 1, \"value\": 1800000}, \"2100000\": {\"frequency\": 1, \"value\": 2100000}, \"1160000\": {\"frequency\": 1, \"value\": 1160000}, \"1950000\": {\"frequency\": 2, \"value\": 1950000}, \"1865000\": {\"frequency\": 1, \"value\": 1865000}, \"787500\": {\"frequency\": 1, \"value\": 787500}, \"2271150\": {\"frequency\": 1, \"value\": 2271150}, \"3710000\": {\"frequency\": 1, \"value\": 3710000}, \"2450000\": {\"frequency\": 1, \"value\": 2450000}, \"1651000\": {\"frequency\": 1, \"value\": 1651000}, \"1225000\": {\"frequency\": 1, \"value\": 1225000}, \"1320000\": {\"frequency\": 1, \"value\": 1320000}, \"1620000\": {\"frequency\": 1, \"value\": 1620000}, \"3640900\": {\"frequency\": 1, \"value\": 3640900}, \"2900000\": {\"frequency\": 1, \"value\": 2900000}, \"1000000\": {\"frequency\": 1, \"value\": 1000000}, \"1398000\": {\"frequency\": 1, \"value\": 1398000}, \"1410000\": {\"frequency\": 1, \"value\": 1410000}, \"3635000\": {\"frequency\": 1, \"value\": 3635000}, \"2187730\": {\"frequency\": 1, \"value\": 2187730}, \"2750000\": {\"frequency\": 1, \"value\": 2750000}, \"1550000\": {\"frequency\": 1, \"value\": 1550000}, \"2250000\": {\"frequency\": 1, \"value\": 2250000}, \"940000\": {\"frequency\": 1, \"value\": 940000}, \"5570000\": {\"frequency\": 1, \"value\": 5570000}, \"1920000\": {\"frequency\": 1, \"value\": 1920000}, \"1555000\": {\"frequency\": 1, \"value\": 1555000}, \"865000\": {\"frequency\": 1, \"value\": 865000}, \"1712750\": {\"frequency\": 1, \"value\": 1712750}, \"2950000\": {\"frequency\": 1, \"value\": 2950000}, \"1350000\": {\"frequency\": 1, \"value\": 1350000}, \"2458000\": {\"frequency\": 1, \"value\": 2458000}, \"2500000\": {\"frequency\": 1, \"value\": 2500000}, \"875000\": {\"frequency\": 1, \"value\": 875000}, \"3418800\": {\"frequency\": 1, \"value\": 3418800}, \"1762000\": {\"frequency\": 1, \"value\": 1762000}}, \"mean\": 2160606.5999999996}, \"bedrooms\": {\"complete\": true, \"numeric\": false, \"num_unique\": 6, \"num_undefined\": 0, \"progress\": 1.0, \"frequent_items\": {\"3\": {\"frequency\": 11, \"value\": \"3\"}, \"2\": {\"frequency\": 1, \"value\": \"2\"}, \"5\": {\"frequency\": 11, \"value\": \"5\"}, \"4\": {\"frequency\": 25, \"value\": \"4\"}, \"7\": {\"frequency\": 1, \"value\": \"7\"}, \"6\": {\"frequency\": 1, \"value\": \"6\"}}, \"size\": 50}, \"zipcode\": {\"complete\": true, \"numeric\": false, \"num_unique\": 1, \"num_undefined\": 0, \"progress\": 1.0, \"frequent_items\": {\"98039\": {\"frequency\": 50, \"value\": \"98039\"}}, \"size\": 50}, \"long\": {\"std\": 0.004837344928298124, \"complete\": true, \"min\": -122.24113039, \"max\": -122.22307342, \"quantile\": [-122.24113039, -122.24113039, -122.24043198, -122.24043198, -122.24036991, -122.24036991, -122.23955527, -122.23955527, -122.23931999, -122.23931999, -122.2391543, -122.2391543, -122.2391543, -122.23863888, -122.23863888, -122.23825348, -122.23824141, -122.23824141, -122.23775204, -122.23775204, -122.23726918, -122.23726918, -122.23711295, -122.23711295, -122.23685639, -122.23685639, -122.23652061, -122.23652061, -122.23648618, -122.23648618, -122.23642702, -122.23642702, -122.23636394, -122.23636394, -122.23634748, -122.23634748, -122.23600518, -122.23600518, -122.23574803, -122.23574803, -122.23554392, -122.23554392, -122.23554392, -122.23554392, -122.23554023, -122.23554023, -122.23551876, -122.23551876, -122.23551404, -122.23551404, -122.23468817, -122.23468817, -122.2346842, -122.2346842, -122.23449462, -122.23449462, -122.23426905, -122.23426905, -122.23365557, -122.23365557, -122.23363962, -122.23363962, -122.23346379, -122.23346379, -122.2322299, -122.2322299, -122.23220225, -122.23220225, -122.23165257, -122.23165257, -122.23040939, -122.23040939, -122.22997582, -122.22997582, -122.22943318, -122.22943318, -122.22913786, -122.22913786, -122.22901659, -122.22901659, -122.22898775, -122.22898775, -122.22772057, -122.22772057, -122.22687735, -122.22687735, -122.22643371, -122.22643371, -122.22582388, -122.22582388, -122.2257943, -122.2257943, -122.22453776, -122.22453776, -122.2245047, -122.2245047, -122.22420058, -122.22420058, -122.22307342, -122.22307342, -122.22307342], \"median\": -122.23468817, \"numeric\": true, \"num_unique\": 49, \"num_undefined\": 0, \"var\": 2.3399905955331578e-05, \"progress\": 1.0, \"size\": 50, \"frequent_items\": {\"-122.23955527\": {\"frequency\": 1, \"value\": -122.23955527}, \"-122.23574803\": {\"frequency\": 1, \"value\": -122.23574803}, \"-122.23551876\": {\"frequency\": 1, \"value\": -122.23551876}, \"-122.24043198\": {\"frequency\": 1, \"value\": -122.24043198}, \"-122.22898775\": {\"frequency\": 1, \"value\": -122.22898775}, \"-122.23711295\": {\"frequency\": 1, \"value\": -122.23711295}, \"-122.2322299\": {\"frequency\": 1, \"value\": -122.2322299}, \"-122.22772057\": {\"frequency\": 1, \"value\": -122.22772057}, \"-122.23824141\": {\"frequency\": 1, \"value\": -122.23824141}, \"-122.23642702\": {\"frequency\": 1, \"value\": -122.23642702}, \"-122.23554023\": {\"frequency\": 1, \"value\": -122.23554023}, \"-122.23648618\": {\"frequency\": 1, \"value\": -122.23648618}, \"-122.23365557\": {\"frequency\": 1, \"value\": -122.23365557}, \"-122.23636394\": {\"frequency\": 1, \"value\": -122.23636394}, \"-122.22307342\": {\"frequency\": 1, \"value\": -122.22307342}, \"-122.23600518\": {\"frequency\": 1, \"value\": -122.23600518}, \"-122.22901659\": {\"frequency\": 1, \"value\": -122.22901659}, \"-122.23363962\": {\"frequency\": 1, \"value\": -122.23363962}, \"-122.23775204\": {\"frequency\": 1, \"value\": -122.23775204}, \"-122.22453776\": {\"frequency\": 1, \"value\": -122.22453776}, \"-122.22943318\": {\"frequency\": 1, \"value\": -122.22943318}, \"-122.23346379\": {\"frequency\": 1, \"value\": -122.23346379}, \"-122.22913786\": {\"frequency\": 1, \"value\": -122.22913786}, \"-122.24036991\": {\"frequency\": 1, \"value\": -122.24036991}, \"-122.23634748\": {\"frequency\": 1, \"value\": -122.23634748}, \"-122.2346842\": {\"frequency\": 1, \"value\": -122.2346842}, \"-122.24113039\": {\"frequency\": 1, \"value\": -122.24113039}, \"-122.2391543\": {\"frequency\": 1, \"value\": -122.2391543}, \"-122.22420058\": {\"frequency\": 1, \"value\": -122.22420058}, \"-122.22997582\": {\"frequency\": 1, \"value\": -122.22997582}, \"-122.23825348\": {\"frequency\": 1, \"value\": -122.23825348}, \"-122.23726918\": {\"frequency\": 1, \"value\": -122.23726918}, \"-122.2257943\": {\"frequency\": 1, \"value\": -122.2257943}, \"-122.23551404\": {\"frequency\": 1, \"value\": -122.23551404}, \"-122.2245047\": {\"frequency\": 1, \"value\": -122.2245047}, \"-122.22687735\": {\"frequency\": 1, \"value\": -122.22687735}, \"-122.23220225\": {\"frequency\": 1, \"value\": -122.23220225}, \"-122.23863888\": {\"frequency\": 1, \"value\": -122.23863888}, \"-122.23685639\": {\"frequency\": 1, \"value\": -122.23685639}, \"-122.23652061\": {\"frequency\": 1, \"value\": -122.23652061}, \"-122.23040939\": {\"frequency\": 1, \"value\": -122.23040939}, \"-122.23554392\": {\"frequency\": 2, \"value\": -122.23554392}, \"-122.22582388\": {\"frequency\": 1, \"value\": -122.22582388}, \"-122.23165257\": {\"frequency\": 1, \"value\": -122.23165257}, \"-122.23931999\": {\"frequency\": 1, \"value\": -122.23931999}, \"-122.22643371\": {\"frequency\": 1, \"value\": -122.22643371}, \"-122.23426905\": {\"frequency\": 1, \"value\": -122.23426905}, \"-122.23468817\": {\"frequency\": 1, \"value\": -122.23468817}, \"-122.23449462\": {\"frequency\": 1, \"value\": -122.23449462}}, \"mean\": -122.23353104159997}, \"id\": {\"complete\": true, \"numeric\": false, \"num_unique\": 49, \"num_undefined\": 0, \"progress\": 1.0, \"frequent_items\": {\"6447300345\": {\"frequency\": 1, \"value\": \"6447300345\"}, \"3262300322\": {\"frequency\": 1, \"value\": \"3262300322\"}, \"2470100110\": {\"frequency\": 1, \"value\": \"2470100110\"}, \"2540700110\": {\"frequency\": 1, \"value\": \"2540700110\"}, \"5427100150\": {\"frequency\": 1, \"value\": \"5427100150\"}, \"2525049246\": {\"frequency\": 1, \"value\": \"2525049246\"}, \"5427110040\": {\"frequency\": 1, \"value\": \"5427110040\"}, \"3025300250\": {\"frequency\": 1, \"value\": \"3025300250\"}, \"3262301355\": {\"frequency\": 1, \"value\": \"3262301355\"}, \"2525049266\": {\"frequency\": 1, \"value\": \"2525049266\"}, \"5426300060\": {\"frequency\": 1, \"value\": \"5426300060\"}, \"2525049263\": {\"frequency\": 1, \"value\": \"2525049263\"}, \"2425049066\": {\"frequency\": 1, \"value\": \"2425049066\"}, \"3625049014\": {\"frequency\": 1, \"value\": \"3625049014\"}, \"5425700150\": {\"frequency\": 1, \"value\": \"5425700150\"}, \"2525049148\": {\"frequency\": 1, \"value\": \"2525049148\"}, \"3025300095\": {\"frequency\": 1, \"value\": \"3025300095\"}, \"3262300235\": {\"frequency\": 1, \"value\": \"3262300235\"}, \"7397300220\": {\"frequency\": 1, \"value\": \"7397300220\"}, \"2525049113\": {\"frequency\": 1, \"value\": \"2525049113\"}, \"3262300485\": {\"frequency\": 1, \"value\": \"3262300485\"}, \"3262300920\": {\"frequency\": 1, \"value\": \"3262300920\"}, \"3625049088\": {\"frequency\": 1, \"value\": \"3625049088\"}, \"2425049107\": {\"frequency\": 1, \"value\": \"2425049107\"}, \"3262300555\": {\"frequency\": 1, \"value\": \"3262300555\"}, \"2470200020\": {\"frequency\": 1, \"value\": \"2470200020\"}, \"3625049079\": {\"frequency\": 1, \"value\": \"3625049079\"}, \"3262300818\": {\"frequency\": 1, \"value\": \"3262300818\"}, \"3738000070\": {\"frequency\": 1, \"value\": \"3738000070\"}, \"7397300170\": {\"frequency\": 1, \"value\": \"7397300170\"}, \"6447300265\": {\"frequency\": 1, \"value\": \"6447300265\"}, \"5425700205\": {\"frequency\": 1, \"value\": \"5425700205\"}, \"3262300940\": {\"frequency\": 2, \"value\": \"3262300940\"}, \"6447300365\": {\"frequency\": 1, \"value\": \"6447300365\"}, \"2525049086\": {\"frequency\": 1, \"value\": \"2525049086\"}, \"2425049063\": {\"frequency\": 1, \"value\": \"2425049063\"}, \"2425049061\": {\"frequency\": 1, \"value\": \"2425049061\"}, \"3835502815\": {\"frequency\": 1, \"value\": \"3835502815\"}, \"2525049133\": {\"frequency\": 1, \"value\": \"2525049133\"}, \"6447300225\": {\"frequency\": 1, \"value\": \"6447300225\"}, \"2210500019\": {\"frequency\": 1, \"value\": \"2210500019\"}, \"3262301610\": {\"frequency\": 1, \"value\": \"3262301610\"}, \"2525049259\": {\"frequency\": 1, \"value\": \"2525049259\"}, \"2260300060\": {\"frequency\": 1, \"value\": \"2260300060\"}, \"2210500010\": {\"frequency\": 1, \"value\": \"2210500010\"}, \"3625049042\": {\"frequency\": 1, \"value\": \"3625049042\"}, \"3025300225\": {\"frequency\": 1, \"value\": \"3025300225\"}, \"9208900037\": {\"frequency\": 1, \"value\": \"9208900037\"}, \"3025300226\": {\"frequency\": 1, \"value\": \"3025300226\"}}, \"size\": 50}, \"sqft_lot15\": {\"std\": 5897.691990092397, \"complete\": true, \"min\": 8119.0, \"max\": 42730.0, \"quantile\": [8119.0, 8119.0, 8119.0, 8119.0, 8119.0, 8119.0, 8119.0, 8119.0, 9382.0, 9382.0, 10800.0, 10800.0, 10800.0, 10827.0, 10827.0, 12150.0, 12163.0, 12163.0, 13162.0, 13162.0, 13370.0, 13370.0, 13912.0, 13912.0, 14284.0, 14284.0, 14399.0, 14399.0, 14400.0, 14400.0, 14406.0, 14406.0, 14595.0, 14595.0, 15000.0, 15000.0, 15996.0, 15996.0, 16008.0, 16008.0, 16054.0, 16054.0, 16087.0, 16087.0, 16215.0, 16215.0, 16236.0, 16236.0, 16238.0, 16238.0, 16927.0, 16927.0, 17600.0, 17600.0, 17825.0, 17825.0, 17904.0, 17904.0, 18564.0, 18564.0, 18713.0, 18713.0, 18831.0, 18831.0, 19250.0, 19250.0, 19602.0, 19602.0, 19837.0, 19837.0, 19845.0, 19845.0, 19855.0, 19855.0, 19855.0, 19855.0, 19862.0, 19862.0, 19862.0, 19862.0, 19863.0, 19863.0, 20000.0, 20000.0, 20440.0, 20440.0, 21420.0, 21420.0, 22325.0, 22325.0, 24345.0, 24345.0, 25582.0, 25582.0, 27418.0, 27418.0, 27940.0, 27940.0, 42730.0, 42730.0, 42730.0], \"median\": 16927.0, \"numeric\": true, \"num_unique\": 45, \"num_undefined\": 0, \"var\": 34782770.81000001, \"progress\": 1.0, \"size\": 50, \"frequent_items\": {\"17600.0\": {\"frequency\": 1, \"value\": 17600.0}, \"14595.0\": {\"frequency\": 1, \"value\": 14595.0}, \"18564.0\": {\"frequency\": 1, \"value\": 18564.0}, \"19845.0\": {\"frequency\": 1, \"value\": 19845.0}, \"16008.0\": {\"frequency\": 1, \"value\": 16008.0}, \"16087.0\": {\"frequency\": 1, \"value\": 16087.0}, \"19855.0\": {\"frequency\": 2, \"value\": 19855.0}, \"13912.0\": {\"frequency\": 1, \"value\": 13912.0}, \"19602.0\": {\"frequency\": 1, \"value\": 19602.0}, \"12163.0\": {\"frequency\": 1, \"value\": 12163.0}, \"25582.0\": {\"frequency\": 1, \"value\": 25582.0}, \"19862.0\": {\"frequency\": 2, \"value\": 19862.0}, \"19863.0\": {\"frequency\": 1, \"value\": 19863.0}, \"15000.0\": {\"frequency\": 1, \"value\": 15000.0}, \"24345.0\": {\"frequency\": 1, \"value\": 24345.0}, \"27418.0\": {\"frequency\": 1, \"value\": 27418.0}, \"16927.0\": {\"frequency\": 1, \"value\": 16927.0}, \"20000.0\": {\"frequency\": 1, \"value\": 20000.0}, \"17825.0\": {\"frequency\": 1, \"value\": 17825.0}, \"27940.0\": {\"frequency\": 1, \"value\": 27940.0}, \"9382.0\": {\"frequency\": 1, \"value\": 9382.0}, \"42730.0\": {\"frequency\": 1, \"value\": 42730.0}, \"21420.0\": {\"frequency\": 1, \"value\": 21420.0}, \"10800.0\": {\"frequency\": 1, \"value\": 10800.0}, \"19250.0\": {\"frequency\": 1, \"value\": 19250.0}, \"22325.0\": {\"frequency\": 1, \"value\": 22325.0}, \"16054.0\": {\"frequency\": 1, \"value\": 16054.0}, \"8119.0\": {\"frequency\": 4, \"value\": 8119.0}, \"13370.0\": {\"frequency\": 1, \"value\": 13370.0}, \"18713.0\": {\"frequency\": 1, \"value\": 18713.0}, \"14399.0\": {\"frequency\": 1, \"value\": 14399.0}, \"14400.0\": {\"frequency\": 1, \"value\": 14400.0}, \"14406.0\": {\"frequency\": 1, \"value\": 14406.0}, \"10827.0\": {\"frequency\": 1, \"value\": 10827.0}, \"14284.0\": {\"frequency\": 1, \"value\": 14284.0}, \"16215.0\": {\"frequency\": 1, \"value\": 16215.0}, \"20440.0\": {\"frequency\": 1, \"value\": 20440.0}, \"18831.0\": {\"frequency\": 1, \"value\": 18831.0}, \"13162.0\": {\"frequency\": 1, \"value\": 13162.0}, \"16236.0\": {\"frequency\": 1, \"value\": 16236.0}, \"16238.0\": {\"frequency\": 1, \"value\": 16238.0}, \"17904.0\": {\"frequency\": 1, \"value\": 17904.0}, \"12150.0\": {\"frequency\": 1, \"value\": 12150.0}, \"15996.0\": {\"frequency\": 1, \"value\": 15996.0}, \"19837.0\": {\"frequency\": 1, \"value\": 19837.0}}, \"mean\": 17291.1}, \"sqft_living\": {\"std\": 1746.7683561365543, \"complete\": true, \"min\": 1220.0, \"max\": 9890.0, \"quantile\": [1220.0, 1220.0, 1220.0, 1220.0, 1320.0, 1320.0, 1530.0, 1530.0, 1580.0, 1580.0, 2070.0, 2070.0, 2070.0, 2150.0, 2150.0, 2300.0, 2350.0, 2350.0, 2620.0, 2620.0, 2640.0, 2640.0, 2660.0, 2660.0, 2680.0, 2680.0, 2680.0, 2680.0, 2740.0, 2740.0, 2870.0, 2870.0, 2950.0, 2950.0, 3060.0, 3060.0, 3070.0, 3070.0, 3090.0, 3090.0, 3110.0, 3110.0, 3250.0, 3250.0, 3260.0, 3260.0, 3410.0, 3410.0, 3550.0, 3550.0, 3570.0, 3570.0, 3640.0, 3640.0, 3790.0, 3790.0, 3990.0, 3990.0, 4040.0, 4040.0, 4065.0, 4065.0, 4150.0, 4150.0, 4210.0, 4210.0, 4240.0, 4240.0, 4290.0, 4290.0, 4300.0, 4300.0, 4430.0, 4430.0, 4460.0, 4460.0, 4670.0, 4670.0, 4780.0, 4780.0, 4830.0, 4830.0, 4860.0, 4860.0, 5190.0, 5190.0, 5450.0, 5450.0, 5490.0, 5490.0, 5550.0, 5550.0, 6500.0, 6500.0, 7080.0, 7080.0, 9200.0, 9200.0, 9890.0, 9890.0, 9890.0], \"median\": 3570.0, \"numeric\": true, \"num_unique\": 48, \"num_undefined\": 0, \"var\": 3051199.6900000004, \"progress\": 1.0, \"size\": 50, \"frequent_items\": {\"3990\": {\"frequency\": 1, \"value\": 3990}, \"2950\": {\"frequency\": 1, \"value\": 2950}, \"1580\": {\"frequency\": 1, \"value\": 1580}, \"4240\": {\"frequency\": 1, \"value\": 4240}, \"3090\": {\"frequency\": 1, \"value\": 3090}, \"5550\": {\"frequency\": 1, \"value\": 5550}, \"2070\": {\"frequency\": 1, \"value\": 2070}, \"9890\": {\"frequency\": 1, \"value\": 9890}, \"4860\": {\"frequency\": 1, \"value\": 4860}, \"3110\": {\"frequency\": 1, \"value\": 3110}, \"7080\": {\"frequency\": 1, \"value\": 7080}, \"4780\": {\"frequency\": 1, \"value\": 4780}, \"4210\": {\"frequency\": 1, \"value\": 4210}, \"2350\": {\"frequency\": 1, \"value\": 2350}, \"3250\": {\"frequency\": 1, \"value\": 3250}, \"2740\": {\"frequency\": 1, \"value\": 2740}, \"4830\": {\"frequency\": 1, \"value\": 4830}, \"2870\": {\"frequency\": 1, \"value\": 2870}, \"3640\": {\"frequency\": 1, \"value\": 3640}, \"2620\": {\"frequency\": 1, \"value\": 2620}, \"4670\": {\"frequency\": 1, \"value\": 4670}, \"4290\": {\"frequency\": 1, \"value\": 4290}, \"1220\": {\"frequency\": 2, \"value\": 1220}, \"4150\": {\"frequency\": 1, \"value\": 4150}, \"5190\": {\"frequency\": 1, \"value\": 5190}, \"4040\": {\"frequency\": 1, \"value\": 4040}, \"5450\": {\"frequency\": 1, \"value\": 5450}, \"4300\": {\"frequency\": 1, \"value\": 4300}, \"4430\": {\"frequency\": 1, \"value\": 4430}, \"2640\": {\"frequency\": 1, \"value\": 2640}, \"3570\": {\"frequency\": 1, \"value\": 3570}, \"3410\": {\"frequency\": 1, \"value\": 3410}, \"3790\": {\"frequency\": 1, \"value\": 3790}, \"6500\": {\"frequency\": 1, \"value\": 6500}, \"3550\": {\"frequency\": 1, \"value\": 3550}, \"4065\": {\"frequency\": 1, \"value\": 4065}, \"2660\": {\"frequency\": 1, \"value\": 2660}, \"2150\": {\"frequency\": 1, \"value\": 2150}, \"3260\": {\"frequency\": 1, \"value\": 3260}, \"4460\": {\"frequency\": 1, \"value\": 4460}, \"9200\": {\"frequency\": 1, \"value\": 9200}, \"1320\": {\"frequency\": 1, \"value\": 1320}, \"5490\": {\"frequency\": 1, \"value\": 5490}, \"3060\": {\"frequency\": 1, \"value\": 3060}, \"2680\": {\"frequency\": 2, \"value\": 2680}, \"1530\": {\"frequency\": 1, \"value\": 1530}, \"2300\": {\"frequency\": 1, \"value\": 2300}, \"3070\": {\"frequency\": 1, \"value\": 3070}}, \"mean\": 3800.899999999999}, \"floors\": {\"complete\": true, \"numeric\": false, \"num_unique\": 2, \"num_undefined\": 0, \"progress\": 1.0, \"frequent_items\": {\"1\": {\"frequency\": 22, \"value\": \"1\"}, \"2\": {\"frequency\": 28, \"value\": \"2\"}}, \"size\": 50}, \"sqft_lot\": {\"std\": 6588.335802492159, \"complete\": true, \"min\": 6572.0, \"max\": 35069.0, \"quantile\": [6572.0, 6572.0, 8118.0, 8118.0, 8119.0, 8119.0, 8119.0, 8119.0, 8119.0, 8119.0, 8500.0, 8500.0, 8500.0, 8797.0, 8797.0, 9382.0, 9600.0, 9600.0, 9930.0, 9930.0, 10827.0, 10827.0, 13162.0, 13162.0, 13530.0, 13530.0, 14600.0, 14600.0, 14959.0, 14959.0, 14986.0, 14986.0, 15438.0, 15438.0, 15593.0, 15593.0, 15952.0, 15952.0, 16000.0, 16000.0, 16007.0, 16007.0, 16238.0, 16238.0, 16573.0, 16573.0, 16684.0, 16684.0, 16953.0, 16953.0, 17424.0, 17424.0, 17709.0, 17709.0, 17919.0, 17919.0, 18115.0, 18115.0, 18564.0, 18564.0, 18713.0, 18713.0, 18916.0, 18916.0, 19542.0, 19542.0, 19844.0, 19844.0, 19865.0, 19865.0, 19865.0, 19865.0, 19897.0, 19897.0, 20104.0, 20104.0, 20412.0, 20412.0, 20440.0, 20440.0, 20445.0, 20445.0, 21000.0, 21000.0, 22257.0, 22257.0, 23115.0, 23115.0, 23885.0, 23885.0, 28078.0, 28078.0, 30456.0, 30456.0, 31374.0, 31374.0, 34412.0, 34412.0, 35069.0, 35069.0, 35069.0], \"median\": 17424.0, \"numeric\": true, \"num_unique\": 47, \"num_undefined\": 0, \"var\": 43406168.6464, \"progress\": 1.0, \"size\": 50, \"frequent_items\": {\"16000\": {\"frequency\": 1, \"value\": 16000}, \"9600\": {\"frequency\": 1, \"value\": 9600}, \"18564\": {\"frequency\": 1, \"value\": 18564}, \"16007\": {\"frequency\": 1, \"value\": 16007}, \"20104\": {\"frequency\": 1, \"value\": 20104}, \"16684\": {\"frequency\": 1, \"value\": 16684}, \"14986\": {\"frequency\": 1, \"value\": 14986}, \"31374\": {\"frequency\": 1, \"value\": 31374}, \"17424\": {\"frequency\": 1, \"value\": 17424}, \"18713\": {\"frequency\": 1, \"value\": 18713}, \"19865\": {\"frequency\": 2, \"value\": 19865}, \"23115\": {\"frequency\": 1, \"value\": 23115}, \"9382\": {\"frequency\": 1, \"value\": 9382}, \"6572\": {\"frequency\": 1, \"value\": 6572}, \"17709\": {\"frequency\": 1, \"value\": 17709}, \"28078\": {\"frequency\": 1, \"value\": 28078}, \"8797\": {\"frequency\": 1, \"value\": 8797}, \"21000\": {\"frequency\": 1, \"value\": 21000}, \"8500\": {\"frequency\": 1, \"value\": 8500}, \"8118\": {\"frequency\": 1, \"value\": 8118}, \"8119\": {\"frequency\": 3, \"value\": 8119}, \"16953\": {\"frequency\": 1, \"value\": 16953}, \"20412\": {\"frequency\": 1, \"value\": 20412}, \"16573\": {\"frequency\": 1, \"value\": 16573}, \"14600\": {\"frequency\": 1, \"value\": 14600}, \"18115\": {\"frequency\": 1, \"value\": 18115}, \"9930\": {\"frequency\": 1, \"value\": 9930}, \"10827\": {\"frequency\": 1, \"value\": 10827}, \"23885\": {\"frequency\": 1, \"value\": 23885}, \"15438\": {\"frequency\": 1, \"value\": 15438}, \"15952\": {\"frequency\": 1, \"value\": 15952}, \"19542\": {\"frequency\": 1, \"value\": 19542}, \"19897\": {\"frequency\": 1, \"value\": 19897}, \"20440\": {\"frequency\": 1, \"value\": 20440}, \"13530\": {\"frequency\": 1, \"value\": 13530}, \"20445\": {\"frequency\": 1, \"value\": 20445}, \"18916\": {\"frequency\": 1, \"value\": 18916}, \"15593\": {\"frequency\": 1, \"value\": 15593}, \"19844\": {\"frequency\": 1, \"value\": 19844}, \"34412\": {\"frequency\": 1, \"value\": 34412}, \"16238\": {\"frequency\": 1, \"value\": 16238}, \"14959\": {\"frequency\": 1, \"value\": 14959}, \"22257\": {\"frequency\": 1, \"value\": 22257}, \"35069\": {\"frequency\": 1, \"value\": 35069}, \"30456\": {\"frequency\": 1, \"value\": 30456}, \"13162\": {\"frequency\": 1, \"value\": 13162}, \"17919\": {\"frequency\": 1, \"value\": 17919}}, \"mean\": 17403.559999999994}, \"date\": {\"complete\": true, \"numeric\": false, \"num_unique\": 47, \"num_undefined\": 0, \"progress\": 1.0, \"frequent_items\": {\"4861868240\": {\"frequency\": 1, \"value\": \"2014-10-07 00:00:00+00:00\"}, \"4861866560\": {\"frequency\": 1, \"value\": \"2014-06-09 00:00:00+00:00\"}, \"4861866704\": {\"frequency\": 1, \"value\": \"2014-05-15 00:00:00+00:00\"}, \"4861866944\": {\"frequency\": 1, \"value\": \"2015-04-21 00:00:00+00:00\"}, \"4861868096\": {\"frequency\": 1, \"value\": \"2015-04-02 00:00:00+00:00\"}, \"4861867904\": {\"frequency\": 1, \"value\": \"2014-11-13 00:00:00+00:00\"}, \"4861866896\": {\"frequency\": 1, \"value\": \"2014-10-08 00:00:00+00:00\"}, \"4861866992\": {\"frequency\": 1, \"value\": \"2015-04-06 00:00:00+00:00\"}, \"4811317392\": {\"frequency\": 1, \"value\": \"2014-10-14 00:00:00+00:00\"}, \"4861867760\": {\"frequency\": 1, \"value\": \"2014-11-26 00:00:00+00:00\"}, \"4861867808\": {\"frequency\": 1, \"value\": \"2015-03-09 00:00:00+00:00\"}, \"4811318304\": {\"frequency\": 2, \"value\": \"2014-08-04 00:00:00+00:00\"}, \"4861867040\": {\"frequency\": 2, \"value\": \"2014-07-25 00:00:00+00:00\"}, \"4861866416\": {\"frequency\": 1, \"value\": \"2014-07-09 00:00:00+00:00\"}, \"4861868672\": {\"frequency\": 1, \"value\": \"2014-05-20 00:00:00+00:00\"}, \"4861867376\": {\"frequency\": 1, \"value\": \"2014-08-21 00:00:00+00:00\"}, \"4861868000\": {\"frequency\": 1, \"value\": \"2015-05-13 00:00:00+00:00\"}, \"4861866512\": {\"frequency\": 1, \"value\": \"2014-10-17 00:00:00+00:00\"}, \"4861866656\": {\"frequency\": 1, \"value\": \"2014-09-19 00:00:00+00:00\"}, \"4861868048\": {\"frequency\": 1, \"value\": \"2014-05-14 00:00:00+00:00\"}, \"4861868432\": {\"frequency\": 1, \"value\": \"2014-06-26 00:00:00+00:00\"}, \"4861868576\": {\"frequency\": 1, \"value\": \"2014-10-09 00:00:00+00:00\"}, \"4861866752\": {\"frequency\": 1, \"value\": \"2014-11-18 00:00:00+00:00\"}, \"4861867520\": {\"frequency\": 1, \"value\": \"2015-02-27 00:00:00+00:00\"}, \"4811337232\": {\"frequency\": 1, \"value\": \"2015-02-12 00:00:00+00:00\"}, \"4811337040\": {\"frequency\": 1, \"value\": \"2015-02-10 00:00:00+00:00\"}, \"4861867568\": {\"frequency\": 1, \"value\": \"2014-08-12 00:00:00+00:00\"}, \"4861867664\": {\"frequency\": 1, \"value\": \"2015-04-10 00:00:00+00:00\"}, \"4861866800\": {\"frequency\": 1, \"value\": \"2014-07-08 00:00:00+00:00\"}, \"4861868624\": {\"frequency\": 1, \"value\": \"2014-05-30 00:00:00+00:00\"}, \"4861867088\": {\"frequency\": 1, \"value\": \"2014-10-11 00:00:00+00:00\"}, \"4861867616\": {\"frequency\": 1, \"value\": \"2014-09-11 00:00:00+00:00\"}, \"4861866848\": {\"frequency\": 1, \"value\": \"2014-10-31 00:00:00+00:00\"}, \"4861868192\": {\"frequency\": 1, \"value\": \"2014-09-30 00:00:00+00:00\"}, \"4861868144\": {\"frequency\": 1, \"value\": \"2014-11-06 00:00:00+00:00\"}, \"4861867184\": {\"frequency\": 2, \"value\": \"2015-04-08 00:00:00+00:00\"}, \"4861867280\": {\"frequency\": 1, \"value\": \"2014-08-01 00:00:00+00:00\"}, \"4861867136\": {\"frequency\": 1, \"value\": \"2015-03-24 00:00:00+00:00\"}, \"4811336272\": {\"frequency\": 1, \"value\": \"2014-08-29 00:00:00+00:00\"}, \"4861867952\": {\"frequency\": 1, \"value\": \"2014-05-29 00:00:00+00:00\"}, \"4861867856\": {\"frequency\": 1, \"value\": \"2014-07-02 00:00:00+00:00\"}, \"4861868720\": {\"frequency\": 1, \"value\": \"2014-08-25 00:00:00+00:00\"}, \"4861868288\": {\"frequency\": 1, \"value\": \"2014-09-25 00:00:00+00:00\"}, \"4861867232\": {\"frequency\": 1, \"value\": \"2015-03-05 00:00:00+00:00\"}, \"4861868336\": {\"frequency\": 1, \"value\": \"2014-06-16 00:00:00+00:00\"}, \"4861867472\": {\"frequency\": 1, \"value\": \"2014-10-03 00:00:00+00:00\"}, \"4811335744\": {\"frequency\": 1, \"value\": \"2014-11-07 00:00:00+00:00\"}}, \"size\": 50}, \"waterfront\": {\"std\": 0.14, \"complete\": true, \"min\": 0.0, \"max\": 1.0, \"quantile\": [0.0, 0.0, 0.0, 0.0, 0.0, 0.0, 0.0, 0.0, 0.0, 0.0, 0.0, 0.0, 0.0, 0.0, 0.0, 0.0, 0.0, 0.0, 0.0, 0.0, 0.0, 0.0, 0.0, 0.0, 0.0, 0.0, 0.0, 0.0, 0.0, 0.0, 0.0, 0.0, 0.0, 0.0, 0.0, 0.0, 0.0, 0.0, 0.0, 0.0, 0.0, 0.0, 0.0, 0.0, 0.0, 0.0, 0.0, 0.0, 0.0, 0.0, 0.0, 0.0, 0.0, 0.0, 0.0, 0.0, 0.0, 0.0, 0.0, 0.0, 0.0, 0.0, 0.0, 0.0, 0.0, 0.0, 0.0, 0.0, 0.0, 0.0, 0.0, 0.0, 0.0, 0.0, 0.0, 0.0, 0.0, 0.0, 0.0, 0.0, 0.0, 0.0, 0.0, 0.0, 0.0, 0.0, 0.0, 0.0, 0.0, 0.0, 0.0, 0.0, 0.0, 0.0, 0.0, 0.0, 0.0, 0.0, 1.0, 1.0, 1.0], \"median\": 0.0, \"numeric\": true, \"num_unique\": 2, \"num_undefined\": 0, \"var\": 0.019600000000000003, \"progress\": 1.0, \"size\": 50, \"frequent_items\": {\"0\": {\"frequency\": 49, \"value\": 0}, \"1\": {\"frequency\": 1, \"value\": 1}}, \"mean\": 0.019999999999999997}, \"sqft_basement\": {\"std\": 707.6581095416062, \"complete\": true, \"min\": 0.0, \"max\": 3000.0, \"quantile\": [0.0, 0.0, 0.0, 0.0, 0.0, 0.0, 0.0, 0.0, 0.0, 0.0, 0.0, 0.0, 0.0, 0.0, 0.0, 0.0, 0.0, 0.0, 0.0, 0.0, 0.0, 0.0, 0.0, 0.0, 0.0, 0.0, 0.0, 0.0, 0.0, 0.0, 0.0, 0.0, 0.0, 0.0, 0.0, 0.0, 0.0, 0.0, 0.0, 0.0, 0.0, 0.0, 0.0, 0.0, 0.0, 0.0, 0.0, 0.0, 0.0, 0.0, 0.0, 0.0, 0.0, 0.0, 0.0, 0.0, 0.0, 0.0, 480.0, 480.0, 500.0, 500.0, 500.0, 500.0, 700.0, 700.0, 860.0, 860.0, 870.0, 870.0, 1000.0, 1000.0, 1020.0, 1020.0, 1030.0, 1030.0, 1070.0, 1070.0, 1090.0, 1090.0, 1120.0, 1120.0, 1150.0, 1150.0, 1320.0, 1320.0, 1320.0, 1320.0, 1390.0, 1390.0, 1470.0, 1470.0, 1500.0, 1500.0, 1910.0, 1910.0, 2200.0, 2200.0, 3000.0, 3000.0, 3000.0], \"median\": 0.0, \"numeric\": true, \"num_unique\": 20, \"num_undefined\": 0, \"var\": 500780.0, \"progress\": 1.0, \"size\": 50, \"frequent_items\": {\"0\": {\"frequency\": 29, \"value\": 0}, \"1120\": {\"frequency\": 1, \"value\": 1120}, \"1090\": {\"frequency\": 1, \"value\": 1090}, \"870\": {\"frequency\": 1, \"value\": 870}, \"1030\": {\"frequency\": 1, \"value\": 1030}, \"1500\": {\"frequency\": 1, \"value\": 1500}, \"1320\": {\"frequency\": 2, \"value\": 1320}, \"700\": {\"frequency\": 1, \"value\": 700}, \"480\": {\"frequency\": 1, \"value\": 480}, \"1020\": {\"frequency\": 1, \"value\": 1020}, \"1390\": {\"frequency\": 1, \"value\": 1390}, \"1000\": {\"frequency\": 1, \"value\": 1000}, \"500\": {\"frequency\": 2, \"value\": 500}, \"1070\": {\"frequency\": 1, \"value\": 1070}, \"1910\": {\"frequency\": 1, \"value\": 1910}, \"1470\": {\"frequency\": 1, \"value\": 1470}, \"3000\": {\"frequency\": 1, \"value\": 3000}, \"2200\": {\"frequency\": 1, \"value\": 2200}, \"860\": {\"frequency\": 1, \"value\": 860}, \"1150\": {\"frequency\": 1, \"value\": 1150}}, \"mean\": 509.99999999999994}, \"yr_renovated\": {\"std\": 797.2259905447138, \"complete\": true, \"min\": 0.0, \"max\": 2007.0, \"quantile\": [0.0, 0.0, 0.0, 0.0, 0.0, 0.0, 0.0, 0.0, 0.0, 0.0, 0.0, 0.0, 0.0, 0.0, 0.0, 0.0, 0.0, 0.0, 0.0, 0.0, 0.0, 0.0, 0.0, 0.0, 0.0, 0.0, 0.0, 0.0, 0.0, 0.0, 0.0, 0.0, 0.0, 0.0, 0.0, 0.0, 0.0, 0.0, 0.0, 0.0, 0.0, 0.0, 0.0, 0.0, 0.0, 0.0, 0.0, 0.0, 0.0, 0.0, 0.0, 0.0, 0.0, 0.0, 0.0, 0.0, 0.0, 0.0, 0.0, 0.0, 0.0, 0.0, 0.0, 0.0, 0.0, 0.0, 0.0, 0.0, 0.0, 0.0, 0.0, 0.0, 0.0, 0.0, 0.0, 0.0, 0.0, 0.0, 0.0, 0.0, 1956.0, 1956.0, 1982.0, 1982.0, 1986.0, 1986.0, 1994.0, 1994.0, 1999.0, 1999.0, 2000.0, 2000.0, 2000.0, 2000.0, 2002.0, 2002.0, 2004.0, 2004.0, 2007.0, 2007.0, 2007.0], \"median\": 0.0, \"numeric\": true, \"num_unique\": 10, \"num_undefined\": 0, \"var\": 635569.28, \"progress\": 1.0, \"size\": 50, \"frequent_items\": {\"0\": {\"frequency\": 40, \"value\": 0}, \"1986\": {\"frequency\": 1, \"value\": 1986}, \"1956\": {\"frequency\": 1, \"value\": 1956}, \"1994\": {\"frequency\": 1, \"value\": 1994}, \"1999\": {\"frequency\": 1, \"value\": 1999}, \"2000\": {\"frequency\": 2, \"value\": 2000}, \"2002\": {\"frequency\": 1, \"value\": 2002}, \"2004\": {\"frequency\": 1, \"value\": 2004}, \"2007\": {\"frequency\": 1, \"value\": 2007}, \"1982\": {\"frequency\": 1, \"value\": 1982}}, \"mean\": 398.6}, \"lat\": {\"std\": 0.008770205199876162, \"complete\": true, \"min\": 47.61024534, \"max\": 47.64126121, \"quantile\": [47.61024534, 47.61024534, 47.61089438, 47.61089438, 47.61119433, 47.61119433, 47.61435052, 47.61435052, 47.61512031, 47.61512031, 47.61553701, 47.61553701, 47.61553701, 47.61596014, 47.61596014, 47.61651686, 47.61717049, 47.61717049, 47.61758991, 47.61758991, 47.61770649, 47.61770649, 47.61831019, 47.61831019, 47.61872888, 47.61872888, 47.61894527, 47.61894527, 47.619132, 47.619132, 47.61926956, 47.61926956, 47.62060082, 47.62060082, 47.62086322, 47.62086322, 47.62087993, 47.62087993, 47.62090151, 47.62090151, 47.62170811, 47.62170811, 47.6218429, 47.6218429, 47.62316868, 47.62316868, 47.62321471, 47.62321471, 47.62362669, 47.62362669, 47.62423457, 47.62423457, 47.62445007, 47.62445007, 47.62888314, 47.62888314, 47.62930204, 47.62930204, 47.62953203, 47.62953203, 47.630364, 47.630364, 47.63042668, 47.63042668, 47.63046819, 47.63046819, 47.63078613, 47.63078613, 47.63219483, 47.63219483, 47.63281908, 47.63281908, 47.63281908, 47.63281908, 47.63338698, 47.63338698, 47.63347703, 47.63347703, 47.63375243, 47.63375243, 47.63511958, 47.63511958, 47.63527209, 47.63527209, 47.63533001, 47.63533001, 47.6354047, 47.6354047, 47.63904586, 47.63904586, 47.63953077, 47.63953077, 47.63984135, 47.63984135, 47.63999367, 47.63999367, 47.6408911, 47.6408911, 47.64126121, 47.64126121, 47.64126121], \"median\": 47.62423457, \"numeric\": true, \"num_unique\": 49, \"num_undefined\": 0, \"var\": 7.691649924793487e-05, \"progress\": 1.0, \"size\": 50, \"frequent_items\": {\"47.63904586\": {\"frequency\": 1, \"value\": 47.63904586}, \"47.62953203\": {\"frequency\": 1, \"value\": 47.62953203}, \"47.62170811\": {\"frequency\": 1, \"value\": 47.62170811}, \"47.61872888\": {\"frequency\": 1, \"value\": 47.61872888}, \"47.63219483\": {\"frequency\": 1, \"value\": 47.63219483}, \"47.61512031\": {\"frequency\": 1, \"value\": 47.61512031}, \"47.630364\": {\"frequency\": 1, \"value\": 47.630364}, \"47.63953077\": {\"frequency\": 1, \"value\": 47.63953077}, \"47.61651686\": {\"frequency\": 1, \"value\": 47.61651686}, \"47.63347703\": {\"frequency\": 1, \"value\": 47.63347703}, \"47.61596014\": {\"frequency\": 1, \"value\": 47.61596014}, \"47.61089438\": {\"frequency\": 1, \"value\": 47.61089438}, \"47.61435052\": {\"frequency\": 1, \"value\": 47.61435052}, \"47.61831019\": {\"frequency\": 1, \"value\": 47.61831019}, \"47.61553701\": {\"frequency\": 1, \"value\": 47.61553701}, \"47.62423457\": {\"frequency\": 1, \"value\": 47.62423457}, \"47.6218429\": {\"frequency\": 1, \"value\": 47.6218429}, \"47.63375243\": {\"frequency\": 1, \"value\": 47.63375243}, \"47.63042668\": {\"frequency\": 1, \"value\": 47.63042668}, \"47.63046819\": {\"frequency\": 1, \"value\": 47.63046819}, \"47.61758991\": {\"frequency\": 1, \"value\": 47.61758991}, \"47.63999367\": {\"frequency\": 1, \"value\": 47.63999367}, \"47.6408911\": {\"frequency\": 1, \"value\": 47.6408911}, \"47.6354047\": {\"frequency\": 1, \"value\": 47.6354047}, \"47.61717049\": {\"frequency\": 1, \"value\": 47.61717049}, \"47.62086322\": {\"frequency\": 1, \"value\": 47.62086322}, \"47.63984135\": {\"frequency\": 1, \"value\": 47.63984135}, \"47.63338698\": {\"frequency\": 1, \"value\": 47.63338698}, \"47.62090151\": {\"frequency\": 1, \"value\": 47.62090151}, \"47.62087993\": {\"frequency\": 1, \"value\": 47.62087993}, \"47.61894527\": {\"frequency\": 1, \"value\": 47.61894527}, \"47.63281908\": {\"frequency\": 2, \"value\": 47.63281908}, \"47.619132\": {\"frequency\": 1, \"value\": 47.619132}, \"47.62930204\": {\"frequency\": 1, \"value\": 47.62930204}, \"47.63527209\": {\"frequency\": 1, \"value\": 47.63527209}, \"47.64126121\": {\"frequency\": 1, \"value\": 47.64126121}, \"47.63511958\": {\"frequency\": 1, \"value\": 47.63511958}, \"47.61926956\": {\"frequency\": 1, \"value\": 47.61926956}, \"47.63078613\": {\"frequency\": 1, \"value\": 47.63078613}, \"47.62445007\": {\"frequency\": 1, \"value\": 47.62445007}, \"47.62060082\": {\"frequency\": 1, \"value\": 47.62060082}, \"47.61024534\": {\"frequency\": 1, \"value\": 47.61024534}, \"47.61119433\": {\"frequency\": 1, \"value\": 47.61119433}, \"47.62316868\": {\"frequency\": 1, \"value\": 47.62316868}, \"47.62888314\": {\"frequency\": 1, \"value\": 47.62888314}, \"47.63533001\": {\"frequency\": 1, \"value\": 47.63533001}, \"47.61770649\": {\"frequency\": 1, \"value\": 47.61770649}, \"47.62321471\": {\"frequency\": 1, \"value\": 47.62321471}, \"47.62362669\": {\"frequency\": 1, \"value\": 47.62362669}}, \"mean\": 47.62584129739999}, \"condition\": {\"std\": 0.574108003776293, \"complete\": true, \"min\": 3.0, \"max\": 5.0, \"quantile\": [3.0, 3.0, 3.0, 3.0, 3.0, 3.0, 3.0, 3.0, 3.0, 3.0, 3.0, 3.0, 3.0, 3.0, 3.0, 3.0, 3.0, 3.0, 3.0, 3.0, 3.0, 3.0, 3.0, 3.0, 3.0, 3.0, 3.0, 3.0, 3.0, 3.0, 3.0, 3.0, 3.0, 3.0, 3.0, 3.0, 3.0, 3.0, 3.0, 3.0, 3.0, 3.0, 3.0, 3.0, 3.0, 3.0, 3.0, 3.0, 3.0, 3.0, 3.0, 3.0, 3.0, 3.0, 3.0, 3.0, 4.0, 4.0, 4.0, 4.0, 4.0, 4.0, 4.0, 4.0, 4.0, 4.0, 4.0, 4.0, 4.0, 4.0, 4.0, 4.0, 4.0, 4.0, 4.0, 4.0, 4.0, 4.0, 4.0, 4.0, 4.0, 4.0, 4.0, 4.0, 4.0, 4.0, 4.0, 4.0, 4.0, 4.0, 4.0, 4.0, 4.0, 4.0, 4.0, 4.0, 5.0, 5.0, 5.0, 5.0, 5.0], \"median\": 3.0, \"numeric\": true, \"num_unique\": 3, \"num_undefined\": 0, \"var\": 0.3296, \"progress\": 1.0, \"size\": 50, \"frequent_items\": {\"3\": {\"frequency\": 28, \"value\": 3}, \"4\": {\"frequency\": 20, \"value\": 4}, \"5\": {\"frequency\": 2, \"value\": 5}}, \"mean\": 3.4799999999999995}, \"view\": {\"std\": 0.9830564581955606, \"complete\": true, \"min\": 0.0, \"max\": 4.0, \"quantile\": [0.0, 0.0, 0.0, 0.0, 0.0, 0.0, 0.0, 0.0, 0.0, 0.0, 0.0, 0.0, 0.0, 0.0, 0.0, 0.0, 0.0, 0.0, 0.0, 0.0, 0.0, 0.0, 0.0, 0.0, 0.0, 0.0, 0.0, 0.0, 0.0, 0.0, 0.0, 0.0, 0.0, 0.0, 0.0, 0.0, 0.0, 0.0, 0.0, 0.0, 0.0, 0.0, 0.0, 0.0, 0.0, 0.0, 0.0, 0.0, 0.0, 0.0, 0.0, 0.0, 0.0, 0.0, 0.0, 0.0, 0.0, 0.0, 0.0, 0.0, 0.0, 0.0, 0.0, 0.0, 0.0, 0.0, 0.0, 0.0, 0.0, 0.0, 0.0, 0.0, 0.0, 0.0, 0.0, 0.0, 0.0, 0.0, 1.0, 1.0, 1.0, 1.0, 1.0, 1.0, 1.0, 1.0, 1.0, 1.0, 2.0, 2.0, 2.0, 2.0, 2.0, 2.0, 3.0, 3.0, 4.0, 4.0, 4.0, 4.0, 4.0], \"median\": 0.0, \"numeric\": true, \"num_unique\": 5, \"num_undefined\": 0, \"var\": 0.9664, \"progress\": 1.0, \"size\": 50, \"frequent_items\": {\"0\": {\"frequency\": 39, \"value\": 0}, \"1\": {\"frequency\": 5, \"value\": 1}, \"2\": {\"frequency\": 3, \"value\": 2}, \"3\": {\"frequency\": 1, \"value\": 3}, \"4\": {\"frequency\": 2, \"value\": 4}}, \"mean\": 0.44}}, \"selected_variable\": {\"name\": [\"subset\"], \"descriptives\": {\"rows\": 50, \"columns\": 21}, \"view_component\": \"Summary\", \"view_file\": \"sframe\", \"view_params\": {\"y\": null, \"x\": null, \"columns\": [\"id\", \"date\", \"price\", \"bedrooms\", \"bathrooms\", \"sqft_living\", \"sqft_lot\", \"floors\", \"waterfront\", \"view\", \"condition\", \"grade\", \"sqft_above\", \"sqft_basement\", \"yr_built\", \"yr_renovated\", \"zipcode\", \"lat\", \"long\", \"sqft_living15\", \"sqft_lot15\"], \"view\": null}, \"view_components\": [\"Summary\", \"Table\", \"Bar Chart\", \"BoxWhisker Plot\", \"Line Chart\", \"Scatter Plot\", \"Heat Map\", \"Plots\"], \"type\": \"SFrame\", \"columns\": [{\"dtype\": \"str\", \"name\": \"id\"}, {\"dtype\": \"datetime\", \"name\": \"date\"}, {\"dtype\": \"int\", \"name\": \"price\"}, {\"dtype\": \"str\", \"name\": \"bedrooms\"}, {\"dtype\": \"str\", \"name\": \"bathrooms\"}, {\"dtype\": \"int\", \"name\": \"sqft_living\"}, {\"dtype\": \"int\", \"name\": \"sqft_lot\"}, {\"dtype\": \"str\", \"name\": \"floors\"}, {\"dtype\": \"int\", \"name\": \"waterfront\"}, {\"dtype\": \"int\", \"name\": \"view\"}, {\"dtype\": \"int\", \"name\": \"condition\"}, {\"dtype\": \"int\", \"name\": \"grade\"}, {\"dtype\": \"int\", \"name\": \"sqft_above\"}, {\"dtype\": \"int\", \"name\": \"sqft_basement\"}, {\"dtype\": \"int\", \"name\": \"yr_built\"}, {\"dtype\": \"int\", \"name\": \"yr_renovated\"}, {\"dtype\": \"str\", \"name\": \"zipcode\"}, {\"dtype\": \"float\", \"name\": \"lat\"}, {\"dtype\": \"float\", \"name\": \"long\"}, {\"dtype\": \"float\", \"name\": \"sqft_living15\"}, {\"dtype\": \"float\", \"name\": \"sqft_lot15\"}], \"column_identifiers\": [\"bathrooms\", \"sqft_living15\", \"sqft_above\", \"grade\", \"yr_built\", \"price\", \"bedrooms\", \"zipcode\", \"long\", \"id\", \"sqft_lot15\", \"sqft_living\", \"floors\", \"sqft_lot\", \"date\", \"waterfront\", \"sqft_basement\", \"yr_renovated\", \"lat\", \"condition\", \"view\"]}, \"columns\": [{\"dtype\": \"str\", \"name\": \"id\"}, {\"dtype\": \"datetime\", \"name\": \"date\"}, {\"dtype\": \"int\", \"name\": \"price\"}, {\"dtype\": \"str\", \"name\": \"bedrooms\"}, {\"dtype\": \"str\", \"name\": \"bathrooms\"}, {\"dtype\": \"int\", \"name\": \"sqft_living\"}, {\"dtype\": \"int\", \"name\": \"sqft_lot\"}, {\"dtype\": \"str\", \"name\": \"floors\"}, {\"dtype\": \"int\", \"name\": \"waterfront\"}, {\"dtype\": \"int\", \"name\": \"view\"}, {\"dtype\": \"int\", \"name\": \"condition\"}, {\"dtype\": \"int\", \"name\": \"grade\"}, {\"dtype\": \"int\", \"name\": \"sqft_above\"}, {\"dtype\": \"int\", \"name\": \"sqft_basement\"}, {\"dtype\": \"int\", \"name\": \"yr_built\"}, {\"dtype\": \"int\", \"name\": \"yr_renovated\"}, {\"dtype\": \"str\", \"name\": \"zipcode\"}, {\"dtype\": \"float\", \"name\": \"lat\"}, {\"dtype\": \"float\", \"name\": \"long\"}, {\"dtype\": \"float\", \"name\": \"sqft_living15\"}, {\"dtype\": \"float\", \"name\": \"sqft_lot15\"}]}, e);\n",
       "                });\n",
       "            })();\n",
       "        "
      ]
     },
     "metadata": {},
     "output_type": "display_data"
    }
   ],
   "source": [
    "subset=sales[sales['zipcode']== '98039']\n",
    "subset.show()"
   ]
  },
  {
   "cell_type": "code",
   "execution_count": 28,
   "metadata": {
    "collapsed": false
   },
   "outputs": [
    {
     "data": {
      "text/plain": [
       "50"
      ]
     },
     "execution_count": 28,
     "metadata": {},
     "output_type": "execute_result"
    }
   ],
   "source": [
    "subset.num_rows()\n"
   ]
  },
  {
   "cell_type": "markdown",
   "metadata": {},
   "source": [
    "#Build a regression model with more features"
   ]
  },
  {
   "cell_type": "code",
   "execution_count": 30,
   "metadata": {
    "collapsed": false
   },
   "outputs": [
    {
     "data": {
      "text/plain": [
       "2160606"
      ]
     },
     "execution_count": 30,
     "metadata": {},
     "output_type": "execute_result"
    }
   ],
   "source": [
    "avg=sum(subset['price'])/subset.num_rows()\n",
    "avg"
   ]
  },
  {
   "cell_type": "code",
   "execution_count": 41,
   "metadata": {
    "collapsed": false
   },
   "outputs": [
    {
     "data": {
      "text/plain": [
       "9111"
      ]
     },
     "execution_count": 41,
     "metadata": {},
     "output_type": "execute_result"
    }
   ],
   "source": [
    "subset2=sales[(sales['sqft_living']> 2000)&(sales['sqft_living']< 4000)]\n",
    "subset2.num_rows()\n",
    "\n"
   ]
  },
  {
   "cell_type": "code",
   "execution_count": 42,
   "metadata": {
    "collapsed": false
   },
   "outputs": [
    {
     "data": {
      "text/plain": [
       "21613"
      ]
     },
     "execution_count": 42,
     "metadata": {},
     "output_type": "execute_result"
    }
   ],
   "source": [
    "sales.num_rows()"
   ]
  },
  {
   "cell_type": "code",
   "execution_count": 44,
   "metadata": {
    "collapsed": false
   },
   "outputs": [
    {
     "data": {
      "text/plain": [
       "0.4215518437977143"
      ]
     },
     "execution_count": 44,
     "metadata": {},
     "output_type": "execute_result"
    }
   ],
   "source": [
    "float(subset2.num_rows())/float(sales.num_rows())"
   ]
  },
  {
   "cell_type": "code",
   "execution_count": 46,
   "metadata": {
    "collapsed": false
   },
   "outputs": [],
   "source": [
    "advanced_features =['bedrooms', 'bathrooms', 'sqft_living', 'sqft_lot', 'floors', 'zipcode',\n",
    "'condition', \n",
    "'grade', \n",
    "'waterfront', \n",
    "'view',\n",
    "'sqft_above',\n",
    "'sqft_basement', \n",
    "'yr_built',\n",
    "'yr_renovated', \n",
    "'lat', 'long', \n",
    "'sqft_living15', \n",
    "'sqft_lot15']"
   ]
  },
  {
   "cell_type": "code",
   "execution_count": 52,
   "metadata": {
    "collapsed": false
   },
   "outputs": [
    {
     "name": "stdout",
     "output_type": "stream",
     "text": [
      "PROGRESS: Linear regression:\n",
      "PROGRESS: --------------------------------------------------------\n",
      "PROGRESS: Number of examples          : 17384\n",
      "PROGRESS: Number of features          : 6\n",
      "PROGRESS: Number of unpacked features : 6\n",
      "PROGRESS: Number of coefficients    : 115\n",
      "PROGRESS: Starting Newton Method\n",
      "PROGRESS: --------------------------------------------------------\n",
      "PROGRESS: +-----------+----------+--------------+--------------------+---------------+\n",
      "PROGRESS: | Iteration | Passes   | Elapsed Time | Training-max_error | Training-rmse |\n",
      "PROGRESS: +-----------+----------+--------------+--------------------+---------------+\n",
      "PROGRESS: | 1         | 2        | 0.061856     | 3763208.270524     | 181908.848367 |\n",
      "PROGRESS: +-----------+----------+--------------+--------------------+---------------+\n",
      "PROGRESS: SUCCESS: Optimal solution found.\n",
      "PROGRESS:\n"
     ]
    }
   ],
   "source": [
    "my_features_model =graphlab.linear_regression.create(train_data,target='price',features=my_features,validation_set=None)"
   ]
  },
  {
   "cell_type": "code",
   "execution_count": 47,
   "metadata": {
    "collapsed": false
   },
   "outputs": [
    {
     "name": "stdout",
     "output_type": "stream",
     "text": [
      "['bedrooms', 'bathrooms', 'sqft_living', 'sqft_lot', 'floors', 'zipcode', 'condition', 'grade', 'waterfront', 'view', 'sqft_above', 'sqft_basement', 'yr_built', 'yr_renovated', 'lat', 'long', 'sqft_living15', 'sqft_lot15']\n"
     ]
    }
   ],
   "source": [
    "print advanced_features"
   ]
  },
  {
   "cell_type": "code",
   "execution_count": null,
   "metadata": {
    "collapsed": false
   },
   "outputs": [],
   "source": [
    "print my_features"
   ]
  },
  {
   "cell_type": "code",
   "execution_count": 48,
   "metadata": {
    "collapsed": false
   },
   "outputs": [
    {
     "name": "stdout",
     "output_type": "stream",
     "text": [
      "PROGRESS: Linear regression:\n",
      "PROGRESS: --------------------------------------------------------\n",
      "PROGRESS: Number of examples          : 17384\n",
      "PROGRESS: Number of features          : 18\n",
      "PROGRESS: Number of unpacked features : 18\n",
      "PROGRESS: Number of coefficients    : 127\n",
      "PROGRESS: Starting Newton Method\n",
      "PROGRESS: --------------------------------------------------------\n",
      "PROGRESS: +-----------+----------+--------------+--------------------+---------------+\n",
      "PROGRESS: | Iteration | Passes   | Elapsed Time | Training-max_error | Training-rmse |\n",
      "PROGRESS: +-----------+----------+--------------+--------------------+---------------+\n",
      "PROGRESS: | 1         | 2        | 0.033179     | 3469012.450663     | 154580.940735 |\n",
      "PROGRESS: +-----------+----------+--------------+--------------------+---------------+\n",
      "PROGRESS: SUCCESS: Optimal solution found.\n",
      "PROGRESS:\n"
     ]
    }
   ],
   "source": [
    "advanced_features_model = graphlab.linear_regression.create(train_data,target='price',\n",
    "                                                            features=advanced_features,validation_set=None)"
   ]
  },
  {
   "cell_type": "markdown",
   "metadata": {},
   "source": [
    "##Comparing the results of the simple model with adding more features"
   ]
  },
  {
   "cell_type": "code",
   "execution_count": 53,
   "metadata": {
    "collapsed": false
   },
   "outputs": [
    {
     "name": "stdout",
     "output_type": "stream",
     "text": [
      "{'max_error': 3486584.509381928, 'rmse': 179542.43331269105}\n",
      "{'max_error': 3556849.413848093, 'rmse': 156831.11680191013}\n"
     ]
    }
   ],
   "source": [
    "\n",
    "print my_features_model.evaluate(test_data)\n",
    "print advanced_features_model.evaluate(test_data)"
   ]
  },
  {
   "cell_type": "markdown",
   "metadata": {},
   "source": [
    "The RMSE goes down from \\$255,170 to \\$179,508 with more features."
   ]
  },
  {
   "cell_type": "markdown",
   "metadata": {},
   "source": [
    "#Apply learned models to predict prices of 3 houses"
   ]
  },
  {
   "cell_type": "markdown",
   "metadata": {},
   "source": [
    "The first house we will use is considered an \"average\" house in Seattle. "
   ]
  },
  {
   "cell_type": "code",
   "execution_count": null,
   "metadata": {
    "collapsed": true
   },
   "outputs": [],
   "source": [
    "house1 = sales[sales['id']=='5309101200']"
   ]
  },
  {
   "cell_type": "code",
   "execution_count": null,
   "metadata": {
    "collapsed": false
   },
   "outputs": [],
   "source": [
    "house1"
   ]
  },
  {
   "cell_type": "markdown",
   "metadata": {},
   "source": [
    "<img src=\"http://info.kingcounty.gov/Assessor/eRealProperty/MediaHandler.aspx?Media=2916871\">"
   ]
  },
  {
   "cell_type": "code",
   "execution_count": null,
   "metadata": {
    "collapsed": false
   },
   "outputs": [],
   "source": [
    "print house1['price']"
   ]
  },
  {
   "cell_type": "code",
   "execution_count": null,
   "metadata": {
    "collapsed": false
   },
   "outputs": [],
   "source": [
    "print sqft_model.predict(house1)"
   ]
  },
  {
   "cell_type": "code",
   "execution_count": null,
   "metadata": {
    "collapsed": false
   },
   "outputs": [],
   "source": [
    "print my_features_model.predict(house1)"
   ]
  },
  {
   "cell_type": "markdown",
   "metadata": {},
   "source": [
    "In this case, the model with more features provides a worse prediction than the simpler model with only 1 feature.  However, on average, the model with more features is better."
   ]
  },
  {
   "cell_type": "markdown",
   "metadata": {},
   "source": [
    "##Prediction for a second, fancier house\n",
    "\n",
    "We will now examine the predictions for a fancier house."
   ]
  },
  {
   "cell_type": "code",
   "execution_count": null,
   "metadata": {
    "collapsed": true
   },
   "outputs": [],
   "source": [
    "house2 = sales[sales['id']=='1925069082']"
   ]
  },
  {
   "cell_type": "code",
   "execution_count": null,
   "metadata": {
    "collapsed": false
   },
   "outputs": [],
   "source": [
    "house2"
   ]
  },
  {
   "cell_type": "markdown",
   "metadata": {},
   "source": [
    "<img src=\"https://ssl.cdn-redfin.com/photo/1/bigphoto/302/734302_0.jpg\">"
   ]
  },
  {
   "cell_type": "code",
   "execution_count": null,
   "metadata": {
    "collapsed": false
   },
   "outputs": [],
   "source": [
    "print sqft_model.predict(house2)"
   ]
  },
  {
   "cell_type": "code",
   "execution_count": null,
   "metadata": {
    "collapsed": false
   },
   "outputs": [],
   "source": [
    "print my_features_model.predict(house2)"
   ]
  },
  {
   "cell_type": "markdown",
   "metadata": {},
   "source": [
    "In this case, the model with more features provides a better prediction.  This behavior is expected here, because this house is more differentiated by features that go beyond its square feet of living space, especially the fact that it's a waterfront house. "
   ]
  },
  {
   "cell_type": "markdown",
   "metadata": {},
   "source": [
    "##Last house, super fancy\n",
    "\n",
    "Our last house is a very large one owned by a famous Seattleite."
   ]
  },
  {
   "cell_type": "code",
   "execution_count": null,
   "metadata": {
    "collapsed": true
   },
   "outputs": [],
   "source": [
    "bill_gates = {'bedrooms':[8], \n",
    "              'bathrooms':[25], \n",
    "              'sqft_living':[50000], \n",
    "              'sqft_lot':[225000],\n",
    "              'floors':[4], \n",
    "              'zipcode':['98039'], \n",
    "              'condition':[10], \n",
    "              'grade':[10],\n",
    "              'waterfront':[1],\n",
    "              'view':[4],\n",
    "              'sqft_above':[37500],\n",
    "              'sqft_basement':[12500],\n",
    "              'yr_built':[1994],\n",
    "              'yr_renovated':[2010],\n",
    "              'lat':[47.627606],\n",
    "              'long':[-122.242054],\n",
    "              'sqft_living15':[5000],\n",
    "              'sqft_lot15':[40000]}"
   ]
  },
  {
   "cell_type": "markdown",
   "metadata": {},
   "source": [
    "<img src=\"https://upload.wikimedia.org/wikipedia/commons/thumb/d/d9/Bill_gates%27_house.jpg/2560px-Bill_gates%27_house.jpg\">"
   ]
  },
  {
   "cell_type": "code",
   "execution_count": null,
   "metadata": {
    "collapsed": false
   },
   "outputs": [],
   "source": [
    "print my_features_model.predict(graphlab.SFrame(bill_gates))"
   ]
  },
  {
   "cell_type": "markdown",
   "metadata": {
    "collapsed": true
   },
   "source": [
    "The model predicts a price of over $13M for this house! But we expect the house to cost much more.  (There are very few samples in the dataset of houses that are this fancy, so we don't expect the model to capture a perfect prediction here.)"
   ]
  },
  {
   "cell_type": "code",
   "execution_count": null,
   "metadata": {
    "collapsed": true
   },
   "outputs": [],
   "source": []
  }
 ],
 "metadata": {
  "kernelspec": {
   "display_name": "Python 2",
   "language": "python",
   "name": "python2"
  },
  "language_info": {
   "codemirror_mode": {
    "name": "ipython",
    "version": 2
   },
   "file_extension": ".py",
   "mimetype": "text/x-python",
   "name": "python",
   "nbconvert_exporter": "python",
   "pygments_lexer": "ipython2",
   "version": "2.7.11"
  }
 },
 "nbformat": 4,
 "nbformat_minor": 0
}
